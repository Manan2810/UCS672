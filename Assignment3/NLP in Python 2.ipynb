{
 "cells": [
  {
   "cell_type": "markdown",
   "metadata": {},
   "source": [
    "# Data Cleaning"
   ]
  },
  {
   "cell_type": "markdown",
   "metadata": {},
   "source": [
    "` Data cleaning is a time consuming and unenjoyable task, yet it's a very important one. Keep in mind, \"garbage in, garbage out\".`\n",
    "\n",
    "#### Feeding dirty data into a model will give us results that are meaningless.\n",
    "\n",
    "### Objective:\n",
    "\n",
    "1. Getting the data \n",
    "2. Cleaning the data \n",
    "3. Organizing the data - organize the cleaned data into a way that is easy to input into other algorithms\n",
    "\n",
    "### Output :\n",
    "#### cleaned and organized data in two standard text formats:\n",
    "\n",
    "1. Corpus - a collection of text\n",
    "2. Document-Term Matrix - word counts in matrix format"
   ]
  },
  {
   "cell_type": "markdown",
   "metadata": {},
   "source": [
    "## Problem Statement"
   ]
  },
  {
   "cell_type": "markdown",
   "metadata": {},
   "source": [
    "Look at transcripts of various comedians and note their similarities and differences and find if the stand up comedian of your choice has comedy style different than other comedian.\n"
   ]
  },
  {
   "cell_type": "markdown",
   "metadata": {},
   "source": [
    "## Getting The Data"
   ]
  },
  {
   "cell_type": "markdown",
   "metadata": {},
   "source": [
    "You can get the transcripts of some comedian from [Scraps From The Loft](http://scrapsfromtheloft.com). \n",
    "\n",
    "You can take help of IMDB and select only 10 or 20 comedian having highest rating.\n",
    "\n",
    "\n",
    "\n",
    "\n",
    "\n",
    "\n",
    "### For example:"
   ]
  },
  {
   "cell_type": "code",
   "execution_count": 32,
   "metadata": {},
   "outputs": [],
   "source": [
    "# Web scraping, pickle imports\n",
    "import requests\n",
    "from bs4 import BeautifulSoup\n",
    "import pickle\n",
    "\n",
    "# Scrapes transcript data from scrapsfromtheloft.com\n",
    "def url_to_transcript(url):\n",
    "    '''Returns transcript data specifically from scrapsfromtheloft.com.'''\n",
    "    page = requests.get(url).text\n",
    "    soup = BeautifulSoup(page, \"lxml\")\n",
    "    text = [p.text for p in soup.find()]\n",
    "    print(url)\n",
    "    return text\n",
    "\n",
    "# URLs of transcripts in scope\n",
    "urls = ['https://www.scmp.com/tech/big-tech/article/3215579/chatgpt-sparks-investment-frenzy-and-soul-searching-chinas-artificial-intelligence-drive',\n",
    "        'https://www.scmp.com/tech/policy/article/3212245/chinas-ambitious-e-cny-plan-faces-one-giant-hurdle-winning-over-1-billion-consumers-home',\n",
    "        'https://www.scmp.com/tech/tech-war/article/3205099/tech-war-chinas-push-forge-chip-coalition-asia-falters-washington-expected-tighten-screws-2023',\n",
    "        'https://www.scmp.com/tech/tech-trends/article/3182445/will-nft-metaverse-developments-hong-kong-help-deliver-citys-next',\n",
    "        'https://www.scmp.com/tech/big-tech/article/3253034/openais-sora-pours-cold-water-chinas-ai-dreams-text-video-advancements-prompt-more-soul-searching?campaign=fcdfc3fc-d4d9-11ee-b412-424a7df79dac&module=AI_Recommended_for_you_In-house&pgtype=section_tech',\n",
    "        'https://www.scmp.com/tech/big-tech/article/3133466/china-antitrust-tencents-outsized-share-online-music-streaming-market',\n",
    "        'https://www.scmp.com/tech/big-tech/article/3253033/tech-war-nvidias-stellar-results-show-it-can-thrive-amid-china-decoupling-it-lists-huawei-potential',\n",
    "       ]\n",
    "\n",
    "#site names\n",
    "sites = ['chatgpt', 'ecnyplan','techwar','metaverse','openai-sora','tencent','nvidia']"
   ]
  },
  {
   "cell_type": "code",
   "execution_count": 33,
   "metadata": {},
   "outputs": [
    {
     "name": "stdout",
     "output_type": "stream",
     "text": [
      "https://www.scmp.com/tech/big-tech/article/3215579/chatgpt-sparks-investment-frenzy-and-soul-searching-chinas-artificial-intelligence-drive\n",
      "https://www.scmp.com/tech/policy/article/3212245/chinas-ambitious-e-cny-plan-faces-one-giant-hurdle-winning-over-1-billion-consumers-home\n",
      "https://www.scmp.com/tech/tech-war/article/3205099/tech-war-chinas-push-forge-chip-coalition-asia-falters-washington-expected-tighten-screws-2023\n",
      "https://www.scmp.com/tech/tech-trends/article/3182445/will-nft-metaverse-developments-hong-kong-help-deliver-citys-next\n",
      "https://www.scmp.com/tech/big-tech/article/3253034/openais-sora-pours-cold-water-chinas-ai-dreams-text-video-advancements-prompt-more-soul-searching?campaign=fcdfc3fc-d4d9-11ee-b412-424a7df79dac&module=AI_Recommended_for_you_In-house&pgtype=section_tech\n",
      "https://www.scmp.com/tech/big-tech/article/3133466/china-antitrust-tencents-outsized-share-online-music-streaming-market\n",
      "https://www.scmp.com/tech/big-tech/article/3253033/tech-war-nvidias-stellar-results-show-it-can-thrive-amid-china-decoupling-it-lists-huawei-potential\n"
     ]
    }
   ],
   "source": [
    "# # Actually request transcripts (takes a few minutes to run)\n",
    "transcripts = [url_to_transcript(u) for u in urls]"
   ]
  },
  {
   "cell_type": "code",
   "execution_count": 34,
   "metadata": {},
   "outputs": [
    {
     "name": "stdout",
     "output_type": "stream",
     "text": [
      "['ChatGPT sparks investment frenzy and soul searching in China’s artificial intelligence drive | South China Morning Post ', 'South China Morning PostAdvertisementAdvertisementArtificial intelligence+ FOLLOWGet more with myNEWSA personalised news feed of stories that matter to youLearn more China has been pouring billions of dollars into artificial intelligence development, but censorship and technological limitations may hinder the country’s drive to build a a true competitor to ChatGPT. Illustration: Lau Ka-kuenTechBig TechChatGPT sparks investment frenzy and soul searching in China’s artificial intelligence driveWhile China had declared AI strategically important as early as 2018, ChatGPT has shattered illusions about the country’s technological prowess\\nA censored internet, compounded by the lack of access to advanced chips, could hinder China’s ambitions to create a true equivalent to ChatGPT\\nArtificial intelligence+ FOLLOWBen Jiangin BeijingandCoco Fengin BeijingPublished: 10:00am, 1 Apr, 2023Why you can trust SCMP When the world first witnessed the power of OpenAI’s conversational bot ChatGPT late last year, one social media post quickly went viral in China, attempting to explain why this artificial intelligence (AI) breakthrough did not happen in the country.The most widely-shared answer, provided by an anonymous author, was that Chinese technology firms were just too short-sighted to bear the cost of long-term investment, choosing instead to rush towards technologies that can be quickly commercialised.\\n“When the kid next door publishes a revolutionary doctorate paper, don’t ask why that kid is so smart,” it said. “You also have a smart kid in your house, but instead of supporting his study, you asked him to make quick money while he was still able to perform manual labour.”Many netizens find the metaphor apt in describing the root of China’s technological shortcomings. Despite strong policy and financial support by the state, as well as ample private investment, the country has been unable to beat the US to the punch in creating a cutting-edge AI chatbot like ChatGPT.In 2018, President Xi Jinping conducted a special study session with the Politburo. It concluded that AI was strategically important, and could lead to a technological revolution and industrial changes with “profound impact on economic development, social progress, and the pattern of the international political economy”.With the blessing of China’s top leadership, government and private funding poured into domestic AI start-ups.Chinese AI start-up launched a household robot in 2022, designed to play Chinese chess with humans. Photo: HandoutIn the ensuing years, the country saw the emergence of the “four little dragons” – Cloudwalk Technology, Megvii, SenseTime, and Yitu – all focused on the AI field of visual recognition.Meanwhile, commercial products bearing the AI label have flooded the Chinese market. SenseTime, for instance, launched a robot designed solely for teaching kids how to play chess.By 2021, Chinese firms claimed to have produced 21 large language models, up from just two in 2020, putting them on a par with the United States. A large language model, according to AI chip designer Nvidia, represents a deep-learning algorithm that can recognise, summarise, translate, predict and generate text and other content based on knowledge gained from massive data sets.But the arrival of ChatGPT shattered the illusion that China and the US were competing neck and neck in AI.Zhou Hongyi, founder of 360 Security Technology, says China’s AI development lags behind the level of OpenAI. Photo: ShutterstockChina’s knowledge level in AI is two to three years behind OpenAI, the San Francisco-based start-up that created ChatGPT, said Zhou Hongyi, founder of cybersecurity firm 360 Security Technology and an industry veteran with close ties to Chinese authorities, at the China Development Forum last weekend.That technological gap, however, has not deterred Chinese companies and entrepreneurs from touting their own plans to launch their own ChatGPT rivals in the country, where the chatbot is not officially available, because of the government’s attitude towards uncensored content.In March, internet search giant Baidu launched Ernie Bot, becoming the first major tech company in China to launch its own GPT-like service. Wang Huiwen, co-founder of on-demand services giant Meituan, and Lee Kai-fu, former China head of Google, have both started new ventures to explore the business potential of generative AI.But analysts caution that this gold rush could be short-lived owing to lack of technical expertise and experience, compounded by US export restrictions on AI chips, which would hinder the development of a true ChatGPT-equivalent in China.Lee Kai-fu, former head of Google China, has launched a new venture looking into the business potential of ChatGPT-like technologies. Photo: Edmond SoThe fanfare around ChatGPT only shows how much the market is craving for a new investment narrative, according to Bo Pei, an equity analyst at Tiger Securities. “After so many years of development, both the Western and Chinese internet industries are saturated and thirsting for a new direction.”“It is questionable how soon ChatGPT-like tools will actually make an impact or produce meaningful revenue,” Bo said.One big obstacle is China’s walled internet. With the Chinese government prohibiting the country’s more than 1 billion internet users from accessing uncensored content, the materials that researchers can use to train AI engines are more limited than in the West.A random test conducted by the Post last month, for example, found that Baidu’s Ernie Bot was unable to answer questions related to topics deemed politically sensitive by Beijing. When asked if China was a democratic nation, the chatbot ducked the question, simply replying that it “hasn’t learned how to answer this question yet”.Baidu CEO Robin Li Yanhong introduces the functions of Ernie Bot during a launch event in Beijing on March 16. Photo: AP Photo“Censorship could certainly hinder China’s ability to develop a local equivalent to ChatGPT,” Dahlia Peterson, a research analyst at Georgetown University’s Centre for Security and Emerging Technology, said in February.“Even if [Chinese] AI companies are able to access and utilise global data and research resources to train their AI models, it is unlikely Chinese authorities will allow them to use any material deemed as politically sensitive in their replies,” she added.While censorship will not stop China from coming up with its own answers to ChatGPT, much in the same way that the country developed its own search engines after Google pulled out of the market, it could take two to three years for Chinese industry players to develop models that are at least 80 per cent as powerful as ChatGPT, according to research company Third Bridge.And as China continues to fence off its internet, its gap with global AI leaders, such as the US, could widen. Within just four months after the public launch of ChatGPT in November, OpenAI released its next-generation language prediction model GPT-4, which has more sophisticated capabilities, including the ability to analyse images.A sign at the Nvidia headquarters in Santa Clara, California. Photo: Getty Images via AFPChina’s lack of access to the best chips for AI training could further delay its efforts to catch up with the US, according to Phelix Lee, an equity analyst at Morningstar Asia.American semiconductor giant Nvidia, which holds a virtual monopoly over high-end AI chips, is restricted by Washington from exporting its H100 and A100 chips to clients in China. The company now produces tailor-made chips, which are of lower performance, for the Chinese market.Chinese AI “development may be bottlenecked by US restrictions if China is unable to increase hardware sufficiency, and the severity of the bottleneck depends on how sophisticated AI systems become”, Lee said.The immensity of that challenge may well be illustrated by the reluctance of Chinese tech giants, save for Baidu, to show off any ChatGPT-like services to the public.Alibaba Group Holding, which has invested in large language models, has not said when it will roll out its own ChatGPT rival. Photo: BloombergAlibaba Group Holding, owner of the Post, has yet to provide a timetable for the launch of a commercial product based on its large language models, despite having invested in AI for years.Tencent Holdings has not provided any launch plans either, only saying it “will keep investing in cutting-edge technologies”, such as machine learning.Baidu, meanwhile, finds its Ernie Bot being constantly compared to ChatGPT. While the company’s shares gained 14 per cent on the February day that it announced plans to launch an intelligent chatbot, they lost 10 per cent on Ernie Bot’s launch day, when founder Robin Li Yanhong showed the technology with pre-recorded videos rather than a live demonstration.Last month, Li admitted that Ernie Bot lagged behind ChatGPT for about “one or two months”. But he also played down the geopolitical implications of Ernie Bot, saying that it “isn’t a tool for China to compete against the United States”.Sam Altman, CEO and co-founder of Open AI, speaks during an event at the Microsoft headquarters in Redmond, Washington in February. Photo: BloombergIt is too early to predict how much revenue or profit companies can generate from the likes of ChatGPT, as businesses are still exploring real-life applications of these chat bots, according to Wang Kai, a senior equity analyst at Morningstar Asia.“We are encouraged by the possibilities, but we still need to figure out how exactly [chatbots] will be monetised,” he said.Baidu has said it wants to integrate Ernie Bot across all its existing businesses, starting with its search engine, to “reshape the way information is generated and presented”. The technology will eventually be used to support Baidu’s smart speaker Xiaodu, self-driving unit Apollo, and video platform iQiyi, the company said.Over 650 Chinese organisations have announced partnerships with Ernie Bot, including smartphone brand Honor, travel-booking site Ctrip, carmaker Geely Auto, and electronics giants Lenovo Group and TCL, according to Baidu.\\n02:27Baidu unveils China’s answer to ChatGPT, sends stocks tumblingBaidu unveils China’s answer to ChatGPT, sends stocks tumblingStill, even as more Chinese tech firms jump on the chatbot bandwagon, many might see their costly bets failing to pan out, according to Lu Yanxia, research director at information technology consultancy IDC.Solely relying on large language models will not provide a sustained edge for any firm, Lu wrote in a research note in February. ChatGPT-like technologies will also have a limited impact on the market at the moment, while many related AI models might even become irrelevant in the long run, she said.“The true revelation [of ChatGPT] is that these language models will evolve and contribute to the advent of general AI, and that the application of these language models will push for a paradigm shift in AI development and narrow down the industry chain,” the research concluded.Some experts have gone as far as calling for tech companies and researchers around the world to pause the training of AI models more powerful than GPT-4.Tesla CEO Elon Musk is among dozens of tech industry veterans who have signed an open letter calling for a halt in the training of AI models more intelligent than GPT-4. Photo: Getty Images/TNS“AI systems with human-competitive intelligence can pose profound risks to society and humanity,” the Future of Life Institute wrote in an open letter this week, signed by Tesla founder Elon Musk, Apple co-founder Steve Wozniak and dozens of other tech veterans.“Should we automate away all the jobs, including the fulfilling ones? Should we develop non-human minds that might eventually outnumber, outsmart, make us obsolete and replace us?” it asked.“Such decisions must not be delegated to unelected tech leaders. Powerful AI systems should be developed only once we are confident that their effects will be positive and their risks will be manageable,” it said.20'] \n",
      "\n",
      "['China’s ambitious e-CNY plan faces a giant hurdle: winning over 1 billion consumers at home | South China Morning Post ', 'South China Morning PostAdvertisementAdvertisementChina digital currency+ FOLLOWGet more with myNEWSA personalised news feed of stories that matter to youLearn more Illustration by Lau Ka-kuen.TechPolicyChina’s ambitious e-CNY plan faces a giant hurdle: winning over 1 billion consumers at homeMore than three years after China’s central bank started digital currency trials, adoption in one of the initial test beds, Suzhou, remains lethargic\\nSuzhou data show that 130 million yuan in e-CNY were used to settle various utility bills and charges for livelihood services in 2022\\nChina digital currency+ FOLLOWAnn Caoin ShanghaiandTracy Quin ShanghaiPublished: 10:00am, 4 Mar, 2023Why you can trust SCMP When the People’s Bank of China (PBOC) launched pilot trials for the e-CNY at the end of 2019, it selected cities based on factors such as major national development and coordinated regional expansion strategies, as well as location-specific industrial and economic features.Suzhou, the most populous city in eastern Jiangsu province, ticked all the right boxes just like the other initial test sites – Shenzhen, Xiongan and Chengdu. With an economy built on a large manufacturing sector, Suzhou has well-established development zones, an extensive transport network and business-friendly policies that have made it one of the country’s foremost destinations for foreign investment.Fast-forward to the present and the digital yuan’s adoption in Suzhou, like in other pilot cities, appears to have slowed along with China’s economy in the past few years.A recent visit by the South China Morning Post to Suzhou Centre Mall, the city’s largest and most popular shopping venue, found a listless state of e-CNY adoption amid the more prevalent use of other digital payment systems. But that has not stopped the local government from targeting an ambitious post-pandemic goal this year.Suzhou Centre Mall, which opened in November 2017, was developed by Singaporean real estate firm CapitaLand. It is the largest shopping centre in Suzhou, the most populous city in eastern Jiangsu province. Photo: ShutterstockSimilar to most stores nationwide, shops in the mall accept payments via Ant Group platform Alipay or Tencent Holdings’ WeChat Pay. Few establishments put up labels at cashier’s desks to indicate that China’s sovereign digital currency was also accepted. Ant Group is the financial technology affiliate of Alibaba Group Holding, which owns the Post.Alipay and WeChat Pay each have hundred of millions of daily active users on the mainland after amassing millions of features over the years between them. The two super apps each offer a myriad of services, from retailing and catering to medical services, that ensure convenience in their respective ecosystems to keep subscribers from looking to engage with other platforms. The e-CNY, in effect, became a one-time giveaway that offered consumers neither additional convenience nor any compelling reason to be regular users.China’s e-CNY roll-out, two years ahead of any other global monetary authority, offers a crucial case study to India, Sweden, Japan, the United States and the UK, which are all in various stages of studying or rolling out their own versions of central bank digital currencies (CBDCs). A 2021 survey by the Bank of International Settlements found that 86 per cent of 65 global central banks were researching the potential for CBDCs, with one-fifth of the world’s population likely to see a sovereign digital currency in the next three years.Before the Post inquired, a drink shop employee at the Suzhou mall surnamed Wang said she had not encountered a single person who wanted to use e-CNY at the store since it enabled this payment function last year. “You’re the first one to propose to use e-CNY,” Wang said.A staff member shows use of China’s digital yuan, the e-CNY, during the first Global Digital Trade Expo held in Hangzhou, capital of eastern Zhejiang province, on December 12, 2022. Photo: XinhuaStill, some stores have processed e-CNY payments. Meng Tao, who worked at another shop in the mall, said the frequency of customers using e-CNY was about “once a month” since their establishment started accepting it last year.The lacklustre e-CNY usage discerned at the mall is in stark contrast with Suzhou’s ambitious target this year. Local authorities expect the total amount of e-CNY transactions in the city to reach 2 trillion yuan (US$291 billion) by the end of 2023, a big jump from the 340 billion yuan turnover recorded last year. That target amount is also close to the city’s total gross domestic product (GDP) of 2.4 trillion yuan in 2022.That lofty goal appears to be backed by Suzhou’s efforts to increase e-CNY adoption. The city had 30.5 million personal e-CNY digital wallets, more than 900,000 places to use the sovereign digital currency and support by nearly half-a-million merchants at the end of 2022, according to official data from the local government. Local authorities have also spent more than 40 billion yuan worth of e-CNY as part of the city’s annual financial expenditure, including for salaries, tax payments and housing fund loans.Suzhou has aggressively promoted e-CNY adoption through various programmes, despite Covid-19-related disruptions that have beset the country in the past three years. During the 2021 Lunar New Year holiday, for example, the city handed out a total of 250,000 e-CNY red packets, worth 50 million yuan, as part of a grand campaign to expand use of the digital currency.\\n\\n\\nCharlotte He, a 27-year-old resident in Suzhou, said she felt excited at the time for being one of the selected e-CNY red packet recipients in the city, which had a population of 12.7 million in 2021. She remembered spending 200 yuan at a local supermarket the day after receiving the giveaway. That experience, however, was He’s sole memory of using e-CNY in the past three years.She acknowledged that using e-CNY provided “a sense of security” because it was developed and backed by the state, instead of a private company such as Tencent or Alibaba. Still, she said the sovereign digital currency has not been a preferred payment option in the city because there was little support from local merchants.Such feedback from He, as well as from other consumers and merchants, has not discouraged Suzhou authorities from finding more ways to promote e-CNY usage. After getting the digital yuan adopted by banks and utilities, Suzhou enabled e-CNY payment at one of its metro rail lines in June 2021. This was later expanded to all five of the city’s metro lines.\\nLate last year, the Suzhou branch of the state-owned China Construction Bank (CCB) started a campaign to get businesses to open e-CNY wallets as a convenient and secure tool to make electronic payments and money transfers, according to a bank employee surnamed Zhu.That initiative, however, was poorly received. Zhu indicated that no more than 10 per cent of local businesses have opened e-CNY wallets. If the CCB can provide more incentives, such as lower borrowing costs, interest in e-CNY wallets could be much higher, according to Zhu.At present, it has been mostly government agencies, state-owned enterprises (SOEs) and public institutions that have opened e-CNY accounts in Suzhou, according to a senior executive at a local branch of the Industrial and Commercial Bank of China. This executive, who declined to be identified because he was not authorised to speak to the media, said it remains difficult to convince enterprises to adopt e-CNY because the ecosystem has not been fully formed, which means that promoting digital yuan adoption was “more of a political task under the direction of national policy”.What is China’s sovereign digital currency?The PBOC, the country’s central bank, started studying the development of a sovereign digital currency in 2014 and established a first-generation prototype in 2016. A year later, the State Council gave the PBOC the green light to work with the country’s large commercial banks, telecommunications network operators and major internet companies to develop and test China’s own CBDC. It would eventually serve as a substitute for M0, the monetary term for total physical notes and coins in circulation.After basically completing the e-CNY’s design, function development and system testing, the PBOC initiated pilot programmes in 2019 with Shenzhen, Suzhou, Xiongan and Chengdu, while testing user scenarios for the 2022 Beijing Winter Olympics. From November 2020, the cities of Shanghai, Hainan, Changsha, Xian, Qingdao and Dalian were added as e-CNY trial sites.The ongoing pilot scheme has been expanded to 26 cities and 5.6 million merchants, with an accumulated transaction value of 100 billion yuan at the end of August from consumer spending, bank lending and cross-border payments.In Suzhou, 2022 statistics from the municipal government show that 130 million yuan in e-CNY were used to settle water, electricity and gas bills, as well as charges for various livelihood services during the year. About 1.1 million e-CNY transactions were recorded in transport-related scenarios such as subway and petrol stations. On the enterprise side, more than 12 per cent of corporate transactions by SOEs used e-CNY in the same period.The southern tech hub of Shenzhen, meanwhile, spent 570 million yuan last year on 73 consumer-targeted e-CNY campaigns. The city recorded 37.7 billion yuan in accumulated e-CNY transaction value at the end of 2022, according to data from the PBOC branch in Shenzhen.The e-CNY is not just another cryptocurrency. Here’s whyChina’s central bank has already included the digital yuan into the amount of cash in circulation, marking a new era for its use in the world’s second-largest economy. Total e-CNY in circulation reached 13.61 billion yuan at the end of December, which represented 0.13 per cent of outstanding M0.While it has yet to confirm a timetable for the official launch of the digital yuan, the PBOC has said it will continue its pilot programme in line with China’s 14th five-year plan.A mass roll-out could not be rushed because of efforts to advance the revision of laws and regulations, such as the Law on the People’s Bank of China. The PBOC is looking to formulate relevant administrative measures to enhance personal information protection, while improving the rule book and technical codes of the e-CNY.“To ensure managed anonymity, we need to strengthen legislation and improve top-level design,” Mu Changchun, head of the PBOC’s digital currency research institute, wrote in the September 2022 issue of Modern Bankers magazine.China vows ‘limited scope’ for monitoring digital yuan dataPBOC officials have also repeatedly asserted that the digital yuan was designed to replace notes and coins in circulation, not existing digital payment services such as Alipay and WeChat Pay. Last December, for example, Alipay started offering the e-CNY as an express payment option for users of Alibaba’s Taobao Marketplace and Tmall platforms.“I think it’s natural that e-CNY was used at a low frequency,” said Wang Pengbo, a senior financial analyst at market consultancy Botong Analysys. “It’s hard to conduct a high frequency of transactions because consumers already adopted [other payment methods].”“After promoting the digital yuan to consumers by rolling out subsidies and red packets, the next stage of the trial should aim to make both consumers and enterprises use it voluntarily,” Wang said.The stakes are high for Suzhou because it must balance efforts to promote e-CNY with growing its fiscal revenue, which had been hammered by economic headwinds and strict Covid-19 restrictions that were not relaxed until December.China tests central bank digital currency use to settle trades via ‘bridge’Suzhou’s fiscal revenue rose just 0.1 per cent year on year to 233 billion yuan last year, compared with a 9 per cent growth in the same period in 2021. The city’s GDP grew just 2 per cent in 2022.Despite Suzhou’s recent economic difficulties, some still see a way for the city to substantially grow e-CNY adoption and reach its goal of 2 trillion yuan transactions this year.“As long as the government is pushing hard enough, it’s not impossible to reach that target,” Zhu of CCB said. “But for consumers, it won’t make any difference.”Michelle Feng, a government employee in Suzhou, said she was asked by authorities last October to open an e-CNY wallet, where her salary and bonuses have since been deposited. Feng receives more than 10,000 yuan in the form of e-CNY each month, but said she has never used it to pay for anything.Every time that money was received, Feng transfers the whole amount to her bank account and uses it via Alipay and WeChat Pay. She asked: “Why should I bother to download another app and use e-CNY when I’m already so used to Alipay and WeChat Pay for many years?”9'] \n",
      "\n",
      "['Tech war: China’s push to forge a chip coalition in Asia falters as Washington expected to tighten the screws in 2023 | South China Morning Post ', 'South China Morning PostAdvertisementAdvertisementSemiconductors+ FOLLOWGet more with myNEWSA personalised news feed of stories that matter to youLearn more The US has pushed back China’s semiconductor ambitions in 2022. Graphics: SCMP TechTech WarTech war: China’s push to forge a chip coalition in Asia falters as Washington expected to tighten the screws in 2023The past year has seen the emergence of a US-led coalition to thwart China’s access to advanced chips\\nBeijing’s plan to use Europe as a counterbalance to US semiconductor export restrictions has faltered amid rising supply chain concerns there\\nSemiconductors+ FOLLOWChe Panin BeijingandZhou Xinin Hong KongPublished: 9:00am, 31 Dec, 2022Why you can trust SCMP Chinese strategist Wang Xiangsui published a book in 2017 entitled One of the Three: China’s Role in a Future World, in which he described a global future that sees three main blocs emerge: North America, Europe and pan-Asia.Borrowing a page from Luo Guanzhong’s literary classic Romance of the Three Kingdoms, Wang says China will take on leadership of the pan-Asia bloc. “China should be happy to have one third of the world under heaven,” Wang said in an interview with the Observer, a Chinese nationalist website, in late 2020.It is open to debate whether Beijing is setting its strategy on the musings of Wang, a professor at Beihang University, but what is clear is the leadership’s push for a regional supply chain to combat Washington’s move to curtail its technology ambitions. China has forged mechanisms such as “10+3”, namely the 10 Asean members plus China, Japan and South Korea, while lobbying Europeans – the third bloc – not to fall in line with US policy.But the past year has seen the emergence of a US-led coalition to thwart China’s access to advanced chips – which power everything from the latest smartphones to advanced weapons systems. As Washington gradually builds up an export control regime targeting China, leveraging US advantages and influence, Beijing has looked increasingly isolated.Chinese media calls TSMC’s Arizona fab a ‘dark turn’ for the global chip industryWei Shaojun, a senior official at the China Semiconductor Industry Association, the state-backed group representing the domestic chip industry, said at an industry conference this week that China’s chip industry will not die overnight but it cannot achieve an easy victory in this battle.“On the one hand, we can’t be blindly optimistic and believe that we can do everything – the concept of ‘Amazing China’ is certainly out of fashion,” Wei said in published comments. “[However] we don’t have to be depressed or belittle ourselves.” Amazing China is the title of a Chinese propaganda movie from 2017 which hailed the country’s economic and technological achievements.Washington moved quickly in 2022 to deny China access to advanced chips. With the Chips and Science Act, the US is luring chip manufacturing back to American soil with grants. To receive subsidies for plants built in America, Taiwan Semiconductor Manufacturing Co (TSMC) and Samsung Electronics might not be able to build advanced facilities in China, making it much harder, perhaps impossible, for China to keep up with the US.US President Joe Biden delivers a speech at a ceremony celebrating the construction of a factory by TSMC in Phoenix, Arizona, on Dec. 6, 2022. Photo: KyodoThe US also updated export controls in October, restricting China’s access to certain advanced chips, equipment and US personnel. Furthermore, the Biden administration has stepped up diplomatic pressure on its allies to stay on the same page in restricting advanced tech exports to China.Taiwan, the self-ruled island that China regards as a renegade province that it may take over by force if necessary, is clearly drifting away from China’s orbit. TSMC, the world’s most advanced chip foundry, is building a plant in Japan and may consider a second one there. It is also flirting with the idea of setting up its first fab in Europe in addition to its new plant in Arizona.‘No secret US deal’: Taiwan denies TSMC plant will hurt island dominanceTSMC’s plan to spend US$40 billion to make advanced 4-nanometre chips in the US contrasts with its plan to spend US$3 billion to expand production at its Nanjing fab in mainland China, which produces mature 28-nm node chips. Apart from US restrictions, Taipei has long had restrictions barring any Taiwanese chip makers from investing in advanced technologies in mainland China to keep a technological gap of at least two generations.Beijing is also facing a test of its relationship with South Korea. An executive at SK Hynix, the Korean chip giant that has received red-carpet treatment in Wuxi, said in October that it would consider selling its chip plant in the city if US export controls make it impossible to operate. The company subsequently denied such a plan. The local government of Wuxi has said that a Phase II investment project by SK Hynix worth 53.2 billion yuan (US$7.64 billion) has been signed.Meanwhile Europe is pursuing its own supply chain security.The 27-country bloc agreed a 45 billion euro (US$46.6 billion) plan to fund production of chips on home soil this month to reduce reliance on Asian manufacturers. The EU Chips Act, which is subject to EU parliamentary debate and approval in 2023, aims to boost EU-based chip production to 20 per cent of the global market by 2030 from the current level of 10 per cent.The move reflects the EU’s heightened concerns over future supply chain risks, which may run counter to Beijing’s plan to use Europe as a counterbalance to US semiconductor export restrictions. Berlin last month blocked the takeover of German chip maker Elmos by Swedish competitor Silex, which is a subsidiary of Chinese group Sai Microelectronics.Although the EU has refrained from singling out China as a security concern, the fact that Brussels is not doing anything to upset US policy, will have implications for Beijing’s attempts to thwart Washington’s attack, analysts say.“On the negative side, there will be more attention in Europe on supply chain disruption that could erupt from China,” said Mathieu Duchâtel, director of the Asia programme at the Paris-based Institute Montaigne. “The EU Chips Act names the US, Japan, Korea, Singapore and Taiwan as the EU’s supply chain security partners, which makes it clear that China is considered a risk”.ASML, Lam Research rush to pull US engineers out of China amid new regulationsAmong the named partners in the EU Chips Act, Japan, South Korea and Taiwan have also been tapped by Washington to form a chip alliance known as Chip 4, which is seen by Beijing as a deliberate move to marginalise China’s role in the semiconductor industry.Singapore also serves as a hedge against supply chain risks from China for certain chip manufacturers in Asia. As such, the EU’s partnership with these liberal democracies could make China even more isolated.Mergers and acquisition activity by Chinese companies in the European tech sector has already come under greater scrutiny.US President Joe Biden shakes hands with Mark Liu, chairman of TSMC, right, during a “First Tool-In” ceremony at the TSMC facility under construction in Phoenix, Arizona, US. Photo: BloombergThe UK government in November demanded that the semiconductor firm Nexperia sell at least 86 per cent of Welsh wafer fab Nexperia Newport Limited due to a “risk to national security”.Nexperia is a Dutch subsidiary of China’s Wingtech technology. Wingtech obtained 79.97 per cent of Nexperia’s shares in 2018, becoming its largest shareholder and bought the rest of Nexperia’s shares in 2020. During the previous year, Nexperia also invested in Nexperia Newport Limited (then Newport Wafer Fab), becoming the company’s second-largest shareholder.However, Duchâtel said the EU Chip Act’s direct impact on China is limited for now as economic ties between the country and Europe remain strong. Both EU exports to and imports from China increased between 2011 and 2021, according to official statistics from Eurostat. Chinese investment in Europe (EU-27 plus the UK) increased 33 per cent to 10.6 billion euros in 2021, the first pickup from a downward trend since 2016, according to data from Rhodium Group and MERICS.Meanwhile, one of the key European players in the US-China chip war is ASML, the Dutch firm with a quasi-monopoly in lithography systems – necessary for advanced chip production. In the face of US demands for further export restrictions to China, Dutch foreign trade minister Liesje Schreinemacher pushed back, saying the US cannot decide the country’s policy and that the Netherlands “will not copy” US curbs on exports of chips and chip-making technology to China.However, China still has geopolitical hurdles to climb. According to a Bloomberg news report this month, citing unidentified sources, Japan and the Netherlands have agreed to tighten export controls on advanced chipmaking tools to China. If ASML is pulled within the confines of such an agreement, then this could even impede China’s plans to expand capacity of plants handling mature technology nodes.And although Beijing has filed a dispute at the World Trade Organization (WTO) against the US chip export controls, Washington has blocked appointments to the WTO’s top ruling body on trade disputes in recent years, meaning that some rows never get settled.Korean chip maker SK Hynix says it may sell China fab under US pressureArisa Liu, a senior semiconductor research fellow at the Taiwan Institute of Economic Research, said semiconductor equipment and materials suppliers from the Netherlands and Japan “might not be on the same page with the US” in sanctioning China due to their own business interests.“In the short term, it is still to be seen whether the US can leverage both a carrot and stick to form an alliance against China, although we expect hurdles to remain quite high for European countries to ship semiconductor equipment to China or sell semiconductor businesses to mainland China companies,” Liu said.Meanwhile, the US is set to enhance and widen its export controls in 2023 to counter China, according to analysts at the Center for Strategic and International Studies, a Washington-based think tank.“If the Dutch and the Japanese do not go along willingly, the Biden administration could threaten to take extraterritorial measures”, they noted. The US could also extend export controls into other technology areas that are “fundamental to United States technological leadership and therefore national security” such as artificial intelligence, biotechnology, quantum computing and advanced clean energy.96'] \n",
      "\n",
      "['Will NFT, metaverse developments in Hong Kong help deliver the city’s next ‘Octopus moment’ in a post-pandemic world? | South China Morning Post ', 'South China Morning PostAdvertisementAdvertisementHong Kong at 25+ FOLLOWGet more with myNEWSA personalised news feed of stories that matter to youLearn more Illustration: Lau Ka-kuenTechTech TrendsWill NFT, metaverse developments in Hong Kong help deliver the city’s next ‘Octopus moment’ in a post-pandemic world?\\nLaunched in September 1997, the Octopus card quickly became a symbol of Hong Kong’s ability to foster innovative technology\\nNearly 25 years later, digital-first enterprises focused on NFT and metaverse projects may be in a position to deliver the city’s next ‘Octopus moment’\\nHong Kong at 25+ FOLLOWBien Perez+ FOLLOWPublished: 3:00pm, 21 Jun, 2022Why you can trust SCMP When the Octopus card was launched in September 1997, this home-grown electronic payment system arguably became the most notable hi-tech application to come out of Hong Kong. It became a symbol of what could be accomplished in a city with world-class infrastructure, the rule of law, business-friendly policies and an expanding pool of skilled talent.Broad public acceptance enabled the contactless smart card to extend its use from the city’s public transport network to the retail sector, tolled tunnels, parking facilities, schools, and even for access control in residential and commercial buildings, according to operator Octopus Cards. Its technology has since been adopted in various projects on the mainland, the Netherlands, the United Arab Emirates and New Zealand.At a time when there are other major electronic wallet options in the market, most Hongkongers – 70 per cent of 6.3 million qualified residents – last year chose the Octopus digital payment platform to store their HK$5,000 consumption vouchers from the government. About 30.4 million Octopus cards were in circulation across the city as of December 31, 2020.But nearly 25 years later, the hope that another “Octopus moment” would occur in Hong Kong has failed to materialise.People tap their Octopus cards inside the MTR station at Sham Shui Po to collect the Hong Kong government’s latest batch of consumption vouchers on April 7, 2022. Photo: Dickson LeeFulfilling that aspiration has recently been complicated by a series of disruptive events: the anti-government protests in Hong Kong, the US-China trade war, the coronavirus pandemic, restrictions imposed under the city’s “dynamic zero-Covid-19” policy, an economic slowdown and a brain drain amid a recent wave of emigration.A segment of Hong Kong’s technology industry, however, suggests potential breakthroughs from a new wave of digital-first enterprises, several years after the likes of artificial intelligence software company SenseTime and on-demand logistics services provider GoGoX Holdings, formerly known as GoGoVan, made their mark on the city.“We have recently seen some exciting innovations in Hong Kong’s tech sector,” said Yat Siu, co-founder and executive chairman of Animoca Brands, a major video gaming and venture capital firm based in Cyberport.“Industries related to the metaverse and Web3, including NFTs [non-fungible tokens], have been taking off during the last couple of pandemic years,” Siu told the South China Morning Post. “Many new start-ups have emerged in this space, in areas such as play-to-earn, virtual real estate and esports.”\\n04:42 Hong Kong’s latest tech unicorn Animoca Brands is betting big on video game NFTs  Hong Kong’s latest tech unicorn Animoca Brands is betting big on video game NFTs The metaverse refers to an immersive virtual world, where digital representations of people can interact with each other like they do in real life. Web3 refers to the new version of the World Wide Web that is based on decentralisation and blockchain, the digital ledger technology behind cryptocurrencies like bitcoin.NFTs generally refer to unique strings of blockchain-registered data that represent a digital file’s ownership. As such, NFTs are considered valuable because people can buy and trade these digital assets like physical items.“NFTs represent the future of digital property and the metaverse,” Siu said. “This space is still young, so there’s plenty of opportunity for anyone with an enterprising attitude. It’s one of the best areas that people should consider to develop their careers and explore new ideas.”Animoca – which was listed on the Australian Securities Exchange from January 23, 2015 to March 9, 2020 – has already made more than 200 investments in various NFT-related blockchain companies, including popular NFT marketplace OpenSea, NBA Top Shot digital collectibles maker Dapper Labs and metaverse platform Alien Worlds.A beginner’s guide to minting NFTs on the OpenSea platform“Overall, I think Web3 is exciting and will eventually touch every industry,” said Casey Lau, co-founder of trade and development group StartupsHK, which has about 5,000 members.“The market has changed so much from Web1, although we didn’t really conquer all the issues in Web2,” said Lau, who also co-hosts the RISE tech conference in Hong Kong. “So we need to keep moving forward.”Web1 refers to the earliest version of the internet, following its development under an initiative of the US government’s Defence Advanced Research Projects Agency. Web2, meanwhile, describes the current state of the internet, which has more user-generated content and ease of use compared to its earlier incarnation.A vibrant community of metaverse and NFT enthusiasts has already formed in Hong Kong. Artists have adopted cryptocurrencies to sell their artwork as NFTs, while various cartoon avatar projects are vying for people’s money and attention.Hong Kong collectors of Degenerate Ape Academy, a popular non-fungible token project on the Solana blockchain, rented out advertising space in Central during the recent Christmas and New Year’s holiday season to promote their NFTs. Photo: HandoutThe Hong Kong-based Metaworld Development project, for example, was launched in March to entice people to invest in NFTs that serve as shares of expensive virtual land created in metaverse platforms Decentraland and The Sandbox, a subsidiary of Animoca. The Metaworld team’s strategy includes trading its virtual land portfolio, renting them to major brands and then distributing the capital gains back to the holders of the NFTs.In the same month, the Post spun off an independent blockchain venture, Artifact Labs, to turn historical art, photographs and content from Hong Kong’s 118-year-old English-language newspaper into tradeable NFTs. As an independent entity, Artifact Labs can help turn the property of other organisations, including schools and museums, into digital collectibles.The Post’s initial collectibles project – the “1997 Premium Series”, which generated sales of about US$126,000 in March – was developed using a blockchain metadata standard called ARTIFACT that was designed for historical and archival NFTs. This collection was built on Flow, a blockchain developed by Animoca-backed Dapper Labs. A second collection from the same NFT series sold out in just over two hours in April.That project’s success showed continued growth momentum for NFTs. The past year saw a boom in the NFT market, the value of which has exceeded US$40 billion, according to blockchain data platform Chainalysis. American artist Mike Winkelmann, known as Beeple, got the ball rolling for NFTs among art collectors in March last year, when his digital artwork Everydays – The First 5,000 Days sold for US$69.3 million at a Christie’s auction.The global market for NFTs generated sales of more than US$40 billion in 2021, according to blockchain data platform Chainalysis.Earlier this month, internet firm Yahoo and Facebook owner Meta Platforms provided a boost of confidence to Hong Kong’s nascent metaverse sector. Meta, which also owns Instagram and WhatsApp, said the city will serve as a testing ground, where it will roll out initiatives to explore the potential use of the metaverse in daily life. That was followed by Yahoo’s announcement to launch a series of metaverse activities to explore immersive advertising technologies and release a limited amount of NFTs.While Web3 and the metaverse are expected to have an impact on potential local innovations and more broadly, the evolution of the internet, there are other enterprises in great need of funding and government support, according to Paul Haswell, a partner who advises technology companies at international law firm Seyfarth Shaw in Hong Kong.“Hong Kong’s tech sector operates on two levels,” Haswell said. “There’s the flashy new tech, such as NFTs and the metaverse, which are seeing plenty of new investments, and there are the innovators working to change the way we do business, protect our health and live our lives.”“So before investing in an NFT of a cat, consider investing in a new health tech start-up or a company seeking to fight climate change,” he said. “Instead of using NFTs to sell pictures of chimps, think of how they could be used to revolutionise Hong Kong’s various records systems or even property transactions.”The heightened interest in NFTs and the metaverse has already made the space fertile ground for fraud and scams, with victims having little recourse because regulators have been slow to catch up with rapid market developments.Hong Kong NFT buyers emerge as targets of hackers, scammersIn February, risks involving NFTs and the metaverse were identified as part of key security threats to look out for this year, according to the government-run cybersecurity watchdog Hong Kong Computer Emergency Response Team Coordination Centre. It warned that criminals could steal sensitive user information or access their accounts to hijack money, either at the point of transaction or where it is stored.The investment frenzy has already supercharged criminal activity in that space. The total value of cryptocurrencies scammed by illicit online addresses via phishing reached US$14 billion last year, according to Chainalysis.On June 6, Hong Kong’s Securities and Futures Commission said that some NFTs constitute investment products that must be regulated, and warned investors of the risks involved with investing in such tokens.Hong Kong securities watchdog says some NFTs will require licencesStill, debate about the advantages of the nascent NFT and metaverse space over initiatives in traditional industries takes a back seat to what could be Hong Kong’s biggest impediment to seeing another Octopus moment – a looming shortage of skilled labour, especially in the tech sector, brought about by the city’s brain drain.Companies have been wrestling with a brain drain amid a recent wave of emigration, with nearly two-fifths of firms polled by the Hong Kong General Chamber of Commerce saying they have experienced an adverse effect on their operations.Last year, 38,167 Hongkongers applied to police for certificates of no criminal conviction, a requirement for emigration to Canada, the US and Australia. The last time applications were so high was 1989. Data from the Immigration Refugees and Citizenship Canada, for example, showed that 3,444 Hongkongers were granted permanent residency in that country in 2021, more than double the number in pre-pandemic 2019, and 15 times that of 2010.\\n\\n\\n“Talent recruitment is the biggest long-term challenge for Hong Kong right now,” Animoca’s Siu said. “The city is still constrained by travel restrictions, while the rest of the world is opening up and enabling people to do business. The loss of diversity and creativity is a tragic development for business, culture, education and virtually all aspects of society.”Stringent anti-pandemic restrictions have contributed to the exit of business talent, former Hong Kong Chief Executive Carrie Lam Cheng Yuet-ngor said in March. This exodus of expats has forced a growing number of local firms to seek fresh talent overseas.“We will have to see what happens now that pandemic restrictions are further easing,” Seyfarth’s Haswell said. “Investments into the Greater Bay Area and the city’s Northern Metropolis scheme may help encourage talent to return to Hong Kong.”As more economies around the world open up, Hong Kong is expected to follow suit, providing a platform to create and push new innovations. “There’ll always be 21-year old fresh grads from good schools who want to begin their career in Asia,” Lau of StartupsHK said. “Hong Kong will remain a viable launch pad for them.”7'] \n",
      "\n",
      "['OpenAI’s Sora pours ‘cold water’ on China’s AI dreams, as text-to-video advancements prompt more soul-searching | South China Morning Post ', 'South China Morning PostAdvertisementAdvertisementArtificial intelligence+ FOLLOWGet more with myNEWSA personalised news feed of stories that matter to youLearn more OpenAI’s text-to-video model Sora has opened a new front in the AI war, leading to more soul-searching in China as the country looks at avenues for catching up. Illustration: Lau Ka-kuenTechBig TechOpenAI’s Sora pours ‘cold water’ on China’s AI dreams, as text-to-video advancements prompt more soul-searchingThe introduction of Sora has forced China’s AI industry to again grapple with how it will catch up to the latest tech in the face of escalating US sanctions\\nChina had envisioned itself as dominating the AI race through its vast troves of data, but quality training data has now proven critical\\nArtificial intelligence+ FOLLOWCoco Fengin BeijingandBen Jiangin BeijingPublished: 8:00am, 24 Feb, 2024Why you can trust SCMP OpenAI’s recent text-to-video model Sora has fired a fresh warning shot to China about its gap with the world’s top artificial intelligence (AI) technologies, triggering questions about why the country has no equivalent product in an echo of the kind of soul-searching local researchers and investors went through after the 2022 launch of ChatGPT.Just a few years ago, China had envisioned itself eventually dominating the global AI race by leveraging the country’s vast troves of data to develop mature applications for functions like facial recognition. Recent developments in generative AI – which uses large models to produce content like text, images and video – have changed the calculus, making China look like a laggard once again.Sora, launched on February 16, moves the AI battle into the realm of video generation just as China is facing greater challenges from a lack of access to key tools such as advanced graphics processing units (GPUs) developed by Nvidia, the leading AI chip designer, owing to escalating US export restrictions. The country’s best AI players are already a number of years behind their American peers in generative AI, an area in which Beijing’s self-trumpeted internet governance model looks like a liability.Zhou Hongyi, the founder of Chinese internet security firm 360 Security Technology, which has joined China’s race to launch its own ChatGPT-style large language model, said the introduction of Sora was like a “barrel of cold water poured down China’s head”, Chinese media Yicai reported on Friday. “It cools down the heads of many people, forcing us to see the gap with leaders overseas,” he added.\\nIn one knee-jerk response to Sora this week, Beijing asked its most trusted state-owned enterprises to take a lead on AI. The State Council’s State-owned Assets Supervision and Administration Commission on Monday urged firms under direct control of the central government to “embrace the profound changes brought about by AI”. Ten of these firms were designated as champions to promote AI, but the watchdog did not name the selected companies.Xie Saining, an assistant professor of Computer Science at Courant Institute of Mathematical Sciences at New York University, denied he was involved in the development of Sora and emphasised the importance of talent, data and computing power. In a widely reported social media post, Xie asked whether China is ready for Sora, saying the country should make sure the technology “won’t be abused to serve as a profiteering and manipulation tool by some people or groups”.Sora’s access is currently limited. Unlike some of OpenAI’s earlier models, it is not open source, and only a small number of people have access to a trial of the model.In mainland China, the national Cyberspace Administration requires all publicly available large language models (LLMs) to be registered with the authority. OpenAI does not make its services directly available in the mainland or Hong Kong, nor does Google make its Gemini AI product available in those markets. Microsoft’s Copilot, which uses OpenAI’s GPT models, is available in Hong Kong.The absence of foreign players in the mainland has left several local tech giants jostling for position in a crowded market of over 200 LLMs. Chinese search giant Baidu, social media behemoth Tencent Holdings, and e-commerce king Alibaba Group Holding, which owns the South China Morning Post, have all unveiled their own LLMs.Chinese entrepreneurs express awe and fear of OpenAI’s Sora video toolFew are able to match Sora, however, partly because they are not yet using the novel Diffusion Transformer (DiT) architecture.ByteDance, the Beijing-based owner of TikTok, said its in-house video motion control tool Boximator, used to assist video generation, is still in infancy and not ready for mass release. “It still has a big gap with leading video generation models in terms of image quality, fidelity and duration.”Rather than matching Sora, however, some industry insiders see the more pressing issue as gaining access to OpenAI’s model. Beijing-based Sinodata said it will be one of the first companies to apply for a Sora API subscription once the text-to-video tool becomes available on Azure, the cloud computing platform of Microsoft, which is OpenAI’s biggest backer.In the US, though, lawmakers are already looking at ways of curbing China’s access to American AI cloud services.Meanwhile, London-based unicorn Stability AI released its text-to-image model Stable Diffusion 3, which also uses DiT, as the architecture might become mainstream for building generative AI following the popularity of Sora. A Chinese developer, who declined to be named, said a likely path for Chinese AI engineers is to “first decode Sora and train it with their own data to churn out a similar product”.Xu Liang, an AI entrepreneur based in Hangzhou, eastern Zhejiang province, said it will not be long before China has similar services. “As soon as in the next one or two months, there will be Sora-like models coming out of the Chinese market and plenty in the next half year,” he said. But Xu noted that there could still be a non-negligible gap between Chinese products and Sora.\\n05:03How does China’s AI stack up against ChatGPT?How does China’s AI stack up against ChatGPT?Wang Shuyi, a professor who focuses on AI and machine learning at Tianjin Normal University (TJNU), said the experience of developing LLMs in the past year has allowed the Chinese Big Tech firms to build up their know-how in this area and stock up on necessary hardware, giving them the ability to produce Sora-like products in the next six months.The Sora launch has brought speculation about the secret behind its impressive output. Xie, at New York University and one of two developers of DiT, tweeted that “data is likely the most critical factor for Sora’s success”. He estimated that Sora might have around 3 billion parameters.“If true, this is not an unreasonable model size,” he wrote. “It could suggest that training the Sora model might not require as many GPUs as one would anticipate – I would expect very fast iterations going forward.”A few months before Sora was out, a group of researchers launched the VBench, a benchmarking tool for video generation models designed to evaluate performance of Runway’s Gen-2 and Pika. Among 16 dimensions, Gen-2 stands out in areas including imaging quality and aesthetic quality, but it was weak in dynamic range and appearance style. Pika, co-founded by Chinese PhD candidate Guo Wenjing at Stanford University, is best at background consistency and temporal flickering but needs improvements in imaging quality.The VBench team, consisting of researchers from Singapore’s Nanyang Technological University and Shanghai Artificial Intelligence Laboratory in China, found that Sora excels in overall video quality when compared with other models, based on the demos provided by OpenAI. There is limited information on how the model transforms text prompts into videos.Baidu chairman and CEO Robin Li Yanhong discusses the company’s Ernie Bot during the Baidu World conference in Beijing on October 17, 2023. Photo: BloombergLu Yanxia, research director for IDC China’s research on emerging technology, said tech giants such as Baidu, Alibaba and Tencent will be among the first to roll out similar services in the country. Local AI players iFlyTek, SenseTime and Hikvision – all sanctioned by Washington – will also be in the race, she said.But China still faces an uphill battle, as the country’s tech market becomes increasingly walled off from the world in terms of capital, hardware, data and even people, according to analysts.The market value gap between China’s top tech firms compared with those in the US such as Microsoft, Google and Nvidia has widened significantly in recent years since Beijing decided to kneecap its tech giants in the name of reining in the “irrational expansion of capital”.And while China was once seen as having an advantage in its quantity of data, Lu said the country now faces a scarcity of quality data needed to train these newer models, compounding challenges from its limited access to advanced chips. A lack of talent is another concern, according to Lu, as the country’s best and brightest in AI often find it easier to shine working for leading players in the US.\\nAt OpenAI, for instance, tech professionals with an educational background from China form a key group. Among OpenAI’s 1,677 associated members on LinkedIn, 23 of them studied at China’s Tsinghua University, the ninth most common tertiary education institution among the start-up’s employees, beating out the University of Cambridge and Yale University.Stanford University, the University of California, Berkeley, and the Massachusetts Institute of Technology are the top three institutions among OpenAI workers, with 88, 80 and 59 employees, respectively, listing those schools on their LinkedIn profiles.Even with the requisite talent, though, experts question how far China’s home-grown generative AI can go while facing existing constraints from US-China trade tensions.Ping An Securities warned in a report that continued semiconductor export restrictions from the US “may accelerate the maturity of the domestic AI chip industry”, but “home-grown alternatives may fall short of expectations”.Washington has blocked Chinese companies from accessing the world’s most advanced semiconductor tools through restrictions on related products that include any US-origin technology. In October, the US again tightened those restrictions, blocking the mainland’s access to GPUs that Nvidia had specifically designed for Chinese clients in response to earlier curbs.\\nAlexander Harrowell, principal analyst for advanced computing at technology research and advisory group Omdia, noted that China has options beyond GPUs for training LLMs. “You could use Google’s TPU [Tensor Processing Unit], Huawei’s Ascend, AWS’s Trainium, or one of quite a few start-ups’ products,” he said.But replacing GPUs comes at a cost. “The further you go from the GPU route, the more effort it will cost you in software development and systems administration,” Harrowell said.There will also be opportunities specifically for the China market, according to Xu, the Hangzhou-based entrepreneur. “With the publication of the technical report on Sora, and upcoming open-source video models, there will be groundwork for the Chinese players to learn from,” he said. Local video models will have better support for the Chinese language, he added.TJNU’s Wang noted that one of the Sora demo videos involves a scene of a dancing Chinese dragon, which he found to be a stereotypical depiction of the activity. China’s numerous ethnic groups, folk traditions, customs, and geographic diversity offer a wealth of material for local video models to draw from to better cater to local users, he said.Wang also balked at the idea that there is an “insurmountable divide” between Chinese and American AI.“Would Chinese companies rather just follow suit and crank out rip-offs every time their US peers come up with a novel product, or would they rather set a bigger goal to strive for safe artificial general intelligence?” Wang asked.148'] \n",
      "\n",
      "['China antitrust: Tencent’s outsized share of online music-streaming market could put its holdings at risk | South China Morning Post ', 'South China Morning PostAdvertisementAdvertisementChina technology+ FOLLOWGet more with myNEWSA personalised news feed of stories that matter to youLearn moreSCMP SeriesChina’s antitrust investigations into internet and tech1 of 41China’s music-streaming market faces change amid increased antitrust scrutiny2Merger of Tencent-backed game streamers remains in limbo amid Beijing’s scrutiny3Is China’s antitrust probe a detour or dead end for Didi’s New York IPO?4Will Tencent’s web novel king draw attention from antitrust regulators? Illustration: Joe LoTechBig TechChina antitrust: Tencent’s outsized share of online music-streaming market could put its holdings at risk\\nTencent Music Entertainment Group operates popular apps QQ Music, Kugou Music and Kuwo Music in China\\nThe New York-listed company has more than 30 million tracks licensed from domestic and international music labels\\nChina technology+ FOLLOWXinmei Shenin Hong KongandCoco Fengin BeijingPublished: 12:00am, 15 May, 2021Why you can trust SCMP In the first of a four-part series on China’s antitrust investigations into the nation’s internet and technology sectors, Xinmei Shen and Coco Feng look at the music-streaming services provided by online platforms. Parts two through four on video games, literature and ride-hailing will be published on May 29, June 12 and June 26.With an eye to rein in the power and influence of China’s Big Tech companies, Beijing dropped the hammer on e-commerce industry leader Alibaba Group Holding in April with a record US$2.8 billion fine for antitrust violations, following that up with an investigation of on-demand delivery services giant Meituan.Other major hi-tech firms are now expected to come under the government’s antitrust scrutiny. Regulators are already preparing to slap penalties on Tencent Holdings, whose dominance in online music-streaming services has been the focus of a government inquiry, according to a recent Reuters report.Shenzhen-based Tencent, which runs the world’s largest video gaming business by revenue and China’s top social media platform WeChat, also controls the country’s biggest music-streaming operation. New York-listed Tencent Music Entertainment Group (TME), in which Spotify is a principal shareholder, operates popular apps QQ Music, Kugou Music and Kuwo Music, with a combined 622 million monthly active users (MAUs) in the December quarter last year.New York-listed Tencent Music Entertainment Group’s popular streaming apps QQ Music, Kugou Music and Kuwo Music had a combined 622 million monthly active users in the fourth quarter last year. Photo: ShutterstockBy comparison, closest competitor NetEase Cloud Music – operated by NetEase, China’s second-largest video games company – had about 150 million MAUs in the same period, according to estimates by QuestMobile and Deutsche Bank.Tencent could face penalties for not properly reporting past acquisitions and investments for antitrust review, which might force it to sell its Kugou and Kuwo apps, according to a Reuters report last month, citing people familiar with the matter.Antitrust authorities can order companies to dispose of equities and other assets, and conduct necessary measures to restore the firm’s status before it made an acquisition considered “a violation of concentration of undertakings” under China’s anti-monopoly law, according to Liu Xu, a researcher at the Intellectual Property and Competition Law Research Centre at Tongji University in Shanghai, in a blog post published on WeChat in January.“[China’s internet companies] grew wildly in an environment that was all about survival of the fittest, so they generally lacked awareness for compliance,” Liu said in an interview with the Post. “The best and simplest starting point [for an antitrust investigation] is to look into Tencent Music’s acquisition of China Music Corp.”In 2016, Tencent bought a majority stake in China Music Corp, which operated Kugou and Kuwo, in a deal valued at US$2.7 billion. Tencent proceeded to merge its QQ Music business with those two apps to form music-streaming giant TME, which went public in the US in 2018.At the time, the combined domestic market share of the three music-streaming apps was 71 per cent, led by Kugou’s 33.7 per cent share, according to market research firm Sootoo.New York-listed Tencent Music Entertainment Group’s three popular apps have the most number of music-streaming users in China.On top of increasing the number of Tencent’s online music-streaming users, the acquisition also helped expand its music library. TME, at the time, represented more than 60 per cent of music copyrights in China, according to a report by The Wall Street Journal.A big reason why mainland Chinese consumers flock to TME’s apps is their sheer variety of songs. The company has more than 30 million tracks licensed from domestic and international music labels, including through master distribution and licensing agreements with music labels, such as Sony Music Entertainment, Universal Music Group, Warner Music Group, Emperor Entertainment Group and China Record Group Co.For years, Tencent paid hefty fees to strike exclusive licensing deals with major record labels. TME’s expanded operation, however, has given the company a big advantage when sublicensing songs to rival platforms in China, including NetEase Cloud Music.That practice has led to complaints from smaller music-streaming players, some of whom did not survive the industry’s expensive fight for music copyrights.Alibaba-owned music-streaming app Xiami, which was shut down in February this year, admitted that missed opportunities to land major copyright deals led to its demise. Alibaba is the parent company of the Post.Tencent Music Entertainment Group’s apps engage plenty of users because of the firm’s vast library, consisting of more than 30 million tracks licensed from domestic and international music labels.At one time, Xiami had a playlist of more than 30 million songs – including Chinese and Western tracks – and more than 40,000 musicians were posting their work across 1,000 genres, some doing it for free as a way to promote their work.“The whole industry has been overpaying the content cost twice, three times or even more to the label companies in this unfair set-up,” said NetEase chief executive William Ding Lei during his company’s earnings call in the fourth quarter of 2019.Regulators had taken notice of Tencent’s dominant position in the online music market years before Beijing’s recent crackdown on Big Tech.In 2017, China’s National Copyright Administration summoned music-streaming services operators, including Tencent, Alibaba and NetEase, to a meeting to convince them to work together and stop their fight over exclusive licensing deals.Demise of beloved music app shows how China’s internet has changedThat intervention led to an agreement in 2018 between the operators to share up to 99 per cent of their music content, but experts said the remaining 1 per cent was what mattered most because it covered the most popular artists.In January 2019, the State Administration for Market Regulation (SAMR) launched an antitrust investigation into TME that focused on its dealings with the world’s biggest music labels. In January of the following year, that inquiry was suspended.Reasons for that decision and whether there were any penalties imposed on the firm were not clear.TME did not immediately reply to a request for comment.China is home to one of the world’s largest markets for online music-streaming services.With little public information about the 2019 investigation, it remains unclear whether antitrust authorities have resumed its investigation into TME. The inquiry’s suspension happened around the same time TME licensed songs to ByteDance, operator of popular short video-sharing apps TikTok and Douyin.SAMR’s decision to pause that investigation, according to some legal experts, may have been based on article 45 of China’s anti-monopoly law, which states that a suspension can happen when a company has taken measures to correct their misconduct, according to legal experts.The regulator’s action at the time is in stark contrast with the current approach by Beijing to bring in line the country’s Big Tech companies.China warns 34 tech firms against excess in antitrust crackdownRegulators last year foiled the largest stock sale in global finance when they called a halt to the November 5 debut of financial technology giant Ant Group’s shares on the Shanghai and Hong Kong exchanges, less than 48 hours before the highly anticipated start of trading. Ant, which operates the ubiquitous mobile payment service Alipay, is an affiliate of Alibaba.In April this year, Ant agreed to have all of its financial-related activities placed in a holding company overseen by Beijing-based watchdog agencies. The People’s Bank of China and other financial regulators directed Ant to correct “improper competitive behaviour” surrounding Alipay.“The drastically different regulatory approach [taken in those two cases] can be explained by the shift of the top-down initiative from Beijing,” said Angela Zhang, a law professor at the University of Hong Kong and author of the book entitled Chinese Antitrust Exceptionalism.“Before Ant Group’s IPO debacle, the Chinese government put a great emphasis on applying a cautious and tolerant approach in regulating Big Tech.”\\n01:26China kicks off antitrust probes into Alibaba over alleged monopolistic practicesChina kicks off antitrust probes into Alibaba over alleged monopolistic practicesWhat may have helped TME’s case was a deal struck by NetEase in August last year to license songs from Universal Music Group for the first time. The world’s biggest music company said it agreed to license tunes to both TME and NetEase Cloud Music.It is better for TME to abandon its exclusive copyright model, according to Yang Dong, a law professor at Renmin University of China in Beijing. He said that approach “not only improves Tencent’s compliance, but also allows musicians to earn more through copyright licensing”.In the first half of 2020, TME’s apps had a 66.4 per cent share of digital music downloads, while NetEase Cloud Music had a 17.6 per cent share, according to figures from Beijing-based BigData-Research.There were an estimated 658 million online music subscribers out of the country’s 989 million internet users at the end of December last year, according to a report published by the state-run China Internet Network Information Centre.Although the exclusive licensing model has proved unsuitable in China’s online music market, “music-streaming platform’s competition for licences is still heated”, said Zhou Qian, co-founder and chief executive of HiFive, a music copyright management company based in Beijing and Chengdu.While there continues to be a certain level of antitrust risk for TME, the company is expected to manage it better than others.\\n02:26What makes Tencent such a tech goliath?What makes Tencent such a tech goliath?TME’s exclusive licensing deals with the three big music labels have either expired or will expire soon, which means all online music platforms are now able to license music from the labels directly going forward, according to a research report from Deutsche Bank.It also indicated that Chinese regulators’ antitrust concerns are more focused on transaction-based platforms, which are deeply involved in the physical economy and offline businesses.Tongji University’s Liu, however, said that a lack of transparency in China’s law enforcement system complicates the issue.“China’s antitrust law enforcement has run into a big problem: many former officials have joined internet companies, which could make investigations more difficult,” Liu said. “They could tip off companies on the progress of inquiries, including evidence gathered and penalties. This is a situation that hasn’t been brought under control.”Nailing Jell-O to the wall: new rules reveal China’s vision for internet controlAt TME, for example, the former director at the Ministry of Commerce’s anti-monopoly bureau, Xie Lin, now works as the company’s director of policy and regulation, according to a recent report by the The Financial Times and public records online. Cui Shufeng, former deputy director at the ministry’s anti-monopoly department, serves as the director of the Competition Policy Research Centre at the Alibaba Research Institute.Communist Party officials vowed to crack down on such practices. Regarding former SAMR officials who join big internet companies, the Central Commission for Discipline Inspection, China’s top anti-corruption body, recently said that it will strictly investigate cases in which “antitrust law enforcement staff colludes with relevant companies”.“Under these circumstances, an investigation from the anti-corruption body might help push things forward,” Liu said.TME will report its first-quarter financial results on May 17. The company is expected to post a net income of 960.46 million yuan (US$148.80 million), up 8 per cent from a year earlier, on the back of a 23 per cent jump in sales to 7.75 billion yuan (US$1.2 billion), according to Bloomberg’s forecasts.3'] \n",
      "\n",
      "['Tech war: Nvidia’s stellar results show it can thrive amid China decoupling as it lists Huawei as potential AI chip rival | South China Morning Post ', 'South China Morning PostAdvertisementAdvertisementUS-China tech war+ FOLLOWGet more with myNEWSA personalised news feed of stories that matter to youLearn more Nvidia’s stellar results show it can thrive amid China decoupling. Photo: AP TechBig TechTech war: Nvidia’s stellar results show it can thrive amid China decoupling as it lists Huawei as potential AI chip rivalNvidia on Wednesday reported a 265 per cent jump in quarterly revenue that beat estimates\\nAnalysts expect even more growth from Nvidia in 2024 as demand for its hardware remains strong amid AI boom\\nUS-China tech war+ FOLLOWChe Panin Beijing+ FOLLOWPublished: 9:30pm, 23 Feb, 2024Why you can trust SCMP A massive stock surge for Nvidia Corp in the wake of stellar earnings this week shows that the world’s most important chip developer for the artificial intelligence (AI) age is managing to thrive without China, its third-largest market, say analysts.Nvidia on Wednesday reported a 265 per cent jump in quarterly revenue that beat estimates, sending its shares up 16 per cent the next day, despite facing mounting US trade sanctions that restrict its ability to sell advanced chips to China. Its chief executive, Jensen Huang, said that “demand is surging worldwide across companies, industries and nations”.Nvidia’s AI business in China fell to about US$900 million in the quarter ended January 28, from about US$2.9 billion in revenue in the previous quarter. The China data centre share in the segment dropped to 5 per cent of total revenue from 20 per cent in the preceding period, according to estimates by financial services firm Morningstar.Nvidia’s newly-tailored China chip to compete with rival Huawei product“Demand for Nvidia hardware remains very strong, even smaller countries are now competing for its graphics processing units [GPUs],” said Su Lian Jye, chief analyst with research company Omdia.Huang confirmed that Nvidia has halted exports of restricted chips to China to comply with stricter US export controls imposed in October, and has not yet received US government approval to resume these exports.Meanwhile, Nvidia identified Chinese telecoms and network gear giant Huawei Technologies as a competitor in certain categories of AI chips for the first time in its filing with the Securities and Exchange Commission.The forthcoming financial year will be a banner one for Nvidia as demand continues to exceed supply, Morningstar analyst Brian Colello wrote in a research note.Nvidia developed three new data centre GPUs – the H20, L20 and L2 – for Chinese customers after its A800 and H800 GPUs, also previously tailor-made for China clients to comply with an earlier version of US export controls, were banned from being sold in October.Nvidia has started to take pre-orders for its H20, the most powerful GPU of the three that can be used by China-based customers for AI training, with a single card price ranging between US$12,000 and US$15,000, the Post reported in early February.An industry source who declined to be identified due to the sensitivity of the matter, said on Friday that some Chinese clients have already started testing Nvidia’s new replacement chips.Nvidia is expected to face more competition this year from local players as Chinese AI chips start-ups and Huawei try to take a bigger slice of the AI chip pie.Huawei, which bounced back in smartphones in 2023 with its 5G-capable Mate 60 Pro handset equipped with a homegrown chip, has started promoting its Ascend AI chips, potentially a serious rival to Nvidia’s products, via its distribution channel partners.14'] \n",
      "\n"
     ]
    }
   ],
   "source": [
    "for i in transcripts:\n",
    "    print(i,\"\\n\")"
   ]
  },
  {
   "cell_type": "code",
   "execution_count": 35,
   "metadata": {},
   "outputs": [
    {
     "name": "stdout",
     "output_type": "stream",
     "text": [
      "mkdir: transcripts: File exists\n"
     ]
    }
   ],
   "source": [
    "# # Pickle files for later use\n",
    "\n",
    "# # Make a new directory to hold the text files\n",
    "!mkdir transcripts\n",
    "\n",
    "for i, c in enumerate(sites):\n",
    "   with open(\"transcripts/\" + c + \".txt\", \"wb\") as file:\n",
    "     pickle.dump(transcripts[i], file)"
   ]
  },
  {
   "cell_type": "code",
   "execution_count": 36,
   "metadata": {},
   "outputs": [],
   "source": [
    "# Load pickled files\n",
    "data = {}\n",
    "for i, c in enumerate(sites):\n",
    "    with open(\"transcripts/\" + c + \".txt\", \"rb\") as file:\n",
    "        data[c] = pickle.load(file)"
   ]
  },
  {
   "cell_type": "code",
   "execution_count": 37,
   "metadata": {},
   "outputs": [
    {
     "data": {
      "text/plain": [
       "dict_keys(['chatgpt', 'ecnyplan', 'techwar', 'metaverse', 'openai-sora', 'tencent', 'nvidia'])"
      ]
     },
     "execution_count": 37,
     "metadata": {},
     "output_type": "execute_result"
    }
   ],
   "source": [
    "# Double check to make sure data has been loaded properly\n",
    "data.keys()"
   ]
  },
  {
   "cell_type": "code",
   "execution_count": 38,
   "metadata": {},
   "outputs": [
    {
     "data": {
      "text/plain": [
       "['ChatGPT sparks investment frenzy and soul searching in China’s artificial intelligence drive | South China Morning Post ',\n",
       " 'South China Morning PostAdvertisementAdvertisementArtificial intelligence+ FOLLOWGet more with myNEWSA personalised news feed of stories that matter to youLearn more China has been pouring billions of dollars into artificial intelligence development, but censorship and technological limitations may hinder the country’s drive to build a a true competitor to ChatGPT. Illustration: Lau Ka-kuenTechBig TechChatGPT sparks investment frenzy and soul searching in China’s artificial intelligence driveWhile China had declared AI strategically important as early as 2018, ChatGPT has shattered illusions about the country’s technological prowess\\nA censored internet, compounded by the lack of access to advanced chips, could hinder China’s ambitions to create a true equivalent to ChatGPT\\nArtificial intelligence+ FOLLOWBen Jiangin BeijingandCoco Fengin BeijingPublished: 10:00am, 1 Apr, 2023Why you can trust SCMP When the world first witnessed the power of OpenAI’s conversational bot ChatGPT late last year, one social media post quickly went viral in China, attempting to explain why this artificial intelligence (AI) breakthrough did not happen in the country.The most widely-shared answer, provided by an anonymous author, was that Chinese technology firms were just too short-sighted to bear the cost of long-term investment, choosing instead to rush towards technologies that can be quickly commercialised.\\n“When the kid next door publishes a revolutionary doctorate paper, don’t ask why that kid is so smart,” it said. “You also have a smart kid in your house, but instead of supporting his study, you asked him to make quick money while he was still able to perform manual labour.”Many netizens find the metaphor apt in describing the root of China’s technological shortcomings. Despite strong policy and financial support by the state, as well as ample private investment, the country has been unable to beat the US to the punch in creating a cutting-edge AI chatbot like ChatGPT.In 2018, President Xi Jinping conducted a special study session with the Politburo. It concluded that AI was strategically important, and could lead to a technological revolution and industrial changes with “profound impact on economic development, social progress, and the pattern of the international political economy”.With the blessing of China’s top leadership, government and private funding poured into domestic AI start-ups.Chinese AI start-up launched a household robot in 2022, designed to play Chinese chess with humans. Photo: HandoutIn the ensuing years, the country saw the emergence of the “four little dragons” – Cloudwalk Technology, Megvii, SenseTime, and Yitu – all focused on the AI field of visual recognition.Meanwhile, commercial products bearing the AI label have flooded the Chinese market. SenseTime, for instance, launched a robot designed solely for teaching kids how to play chess.By 2021, Chinese firms claimed to have produced 21 large language models, up from just two in 2020, putting them on a par with the United States. A large language model, according to AI chip designer Nvidia, represents a deep-learning algorithm that can recognise, summarise, translate, predict and generate text and other content based on knowledge gained from massive data sets.But the arrival of ChatGPT shattered the illusion that China and the US were competing neck and neck in AI.Zhou Hongyi, founder of 360 Security Technology, says China’s AI development lags behind the level of OpenAI. Photo: ShutterstockChina’s knowledge level in AI is two to three years behind OpenAI, the San Francisco-based start-up that created ChatGPT, said Zhou Hongyi, founder of cybersecurity firm 360 Security Technology and an industry veteran with close ties to Chinese authorities, at the China Development Forum last weekend.That technological gap, however, has not deterred Chinese companies and entrepreneurs from touting their own plans to launch their own ChatGPT rivals in the country, where the chatbot is not officially available, because of the government’s attitude towards uncensored content.In March, internet search giant Baidu launched Ernie Bot, becoming the first major tech company in China to launch its own GPT-like service. Wang Huiwen, co-founder of on-demand services giant Meituan, and Lee Kai-fu, former China head of Google, have both started new ventures to explore the business potential of generative AI.But analysts caution that this gold rush could be short-lived owing to lack of technical expertise and experience, compounded by US export restrictions on AI chips, which would hinder the development of a true ChatGPT-equivalent in China.Lee Kai-fu, former head of Google China, has launched a new venture looking into the business potential of ChatGPT-like technologies. Photo: Edmond SoThe fanfare around ChatGPT only shows how much the market is craving for a new investment narrative, according to Bo Pei, an equity analyst at Tiger Securities. “After so many years of development, both the Western and Chinese internet industries are saturated and thirsting for a new direction.”“It is questionable how soon ChatGPT-like tools will actually make an impact or produce meaningful revenue,” Bo said.One big obstacle is China’s walled internet. With the Chinese government prohibiting the country’s more than 1 billion internet users from accessing uncensored content, the materials that researchers can use to train AI engines are more limited than in the West.A random test conducted by the Post last month, for example, found that Baidu’s Ernie Bot was unable to answer questions related to topics deemed politically sensitive by Beijing. When asked if China was a democratic nation, the chatbot ducked the question, simply replying that it “hasn’t learned how to answer this question yet”.Baidu CEO Robin Li Yanhong introduces the functions of Ernie Bot during a launch event in Beijing on March 16. Photo: AP Photo“Censorship could certainly hinder China’s ability to develop a local equivalent to ChatGPT,” Dahlia Peterson, a research analyst at Georgetown University’s Centre for Security and Emerging Technology, said in February.“Even if [Chinese] AI companies are able to access and utilise global data and research resources to train their AI models, it is unlikely Chinese authorities will allow them to use any material deemed as politically sensitive in their replies,” she added.While censorship will not stop China from coming up with its own answers to ChatGPT, much in the same way that the country developed its own search engines after Google pulled out of the market, it could take two to three years for Chinese industry players to develop models that are at least 80 per cent as powerful as ChatGPT, according to research company Third Bridge.And as China continues to fence off its internet, its gap with global AI leaders, such as the US, could widen. Within just four months after the public launch of ChatGPT in November, OpenAI released its next-generation language prediction model GPT-4, which has more sophisticated capabilities, including the ability to analyse images.A sign at the Nvidia headquarters in Santa Clara, California. Photo: Getty Images via AFPChina’s lack of access to the best chips for AI training could further delay its efforts to catch up with the US, according to Phelix Lee, an equity analyst at Morningstar Asia.American semiconductor giant Nvidia, which holds a virtual monopoly over high-end AI chips, is restricted by Washington from exporting its H100 and A100 chips to clients in China. The company now produces tailor-made chips, which are of lower performance, for the Chinese market.Chinese AI “development may be bottlenecked by US restrictions if China is unable to increase hardware sufficiency, and the severity of the bottleneck depends on how sophisticated AI systems become”, Lee said.The immensity of that challenge may well be illustrated by the reluctance of Chinese tech giants, save for Baidu, to show off any ChatGPT-like services to the public.Alibaba Group Holding, which has invested in large language models, has not said when it will roll out its own ChatGPT rival. Photo: BloombergAlibaba Group Holding, owner of the Post, has yet to provide a timetable for the launch of a commercial product based on its large language models, despite having invested in AI for years.Tencent Holdings has not provided any launch plans either, only saying it “will keep investing in cutting-edge technologies”, such as machine learning.Baidu, meanwhile, finds its Ernie Bot being constantly compared to ChatGPT. While the company’s shares gained 14 per cent on the February day that it announced plans to launch an intelligent chatbot, they lost 10 per cent on Ernie Bot’s launch day, when founder Robin Li Yanhong showed the technology with pre-recorded videos rather than a live demonstration.Last month, Li admitted that Ernie Bot lagged behind ChatGPT for about “one or two months”. But he also played down the geopolitical implications of Ernie Bot, saying that it “isn’t a tool for China to compete against the United States”.Sam Altman, CEO and co-founder of Open AI, speaks during an event at the Microsoft headquarters in Redmond, Washington in February. Photo: BloombergIt is too early to predict how much revenue or profit companies can generate from the likes of ChatGPT, as businesses are still exploring real-life applications of these chat bots, according to Wang Kai, a senior equity analyst at Morningstar Asia.“We are encouraged by the possibilities, but we still need to figure out how exactly [chatbots] will be monetised,” he said.Baidu has said it wants to integrate Ernie Bot across all its existing businesses, starting with its search engine, to “reshape the way information is generated and presented”. The technology will eventually be used to support Baidu’s smart speaker Xiaodu, self-driving unit Apollo, and video platform iQiyi, the company said.Over 650 Chinese organisations have announced partnerships with Ernie Bot, including smartphone brand Honor, travel-booking site Ctrip, carmaker Geely Auto, and electronics giants Lenovo Group and TCL, according to Baidu.\\n02:27Baidu unveils China’s answer to ChatGPT, sends stocks tumblingBaidu unveils China’s answer to ChatGPT, sends stocks tumblingStill, even as more Chinese tech firms jump on the chatbot bandwagon, many might see their costly bets failing to pan out, according to Lu Yanxia, research director at information technology consultancy IDC.Solely relying on large language models will not provide a sustained edge for any firm, Lu wrote in a research note in February. ChatGPT-like technologies will also have a limited impact on the market at the moment, while many related AI models might even become irrelevant in the long run, she said.“The true revelation [of ChatGPT] is that these language models will evolve and contribute to the advent of general AI, and that the application of these language models will push for a paradigm shift in AI development and narrow down the industry chain,” the research concluded.Some experts have gone as far as calling for tech companies and researchers around the world to pause the training of AI models more powerful than GPT-4.Tesla CEO Elon Musk is among dozens of tech industry veterans who have signed an open letter calling for a halt in the training of AI models more intelligent than GPT-4. Photo: Getty Images/TNS“AI systems with human-competitive intelligence can pose profound risks to society and humanity,” the Future of Life Institute wrote in an open letter this week, signed by Tesla founder Elon Musk, Apple co-founder Steve Wozniak and dozens of other tech veterans.“Should we automate away all the jobs, including the fulfilling ones? Should we develop non-human minds that might eventually outnumber, outsmart, make us obsolete and replace us?” it asked.“Such decisions must not be delegated to unelected tech leaders. Powerful AI systems should be developed only once we are confident that their effects will be positive and their risks will be manageable,” it said.20']"
      ]
     },
     "execution_count": 38,
     "metadata": {},
     "output_type": "execute_result"
    }
   ],
   "source": [
    "# More checks\n",
    "data['chatgpt'][:2]"
   ]
  },
  {
   "cell_type": "markdown",
   "metadata": {},
   "source": [
    "## Cleaning The Data"
   ]
  },
  {
   "cell_type": "markdown",
   "metadata": {},
   "source": [
    "When dealing with numerical data, data cleaning often involves removing null values and duplicate data, dealing with outliers, etc. With text data, there are some common data cleaning techniques, which are also known as text pre-processing techniques.\n",
    "\n",
    "With text data, this cleaning process can go on forever. There's always an exception to every cleaning step. So, we're going to follow the MVP (minimum viable product) approach - start simple and iterate.\n",
    "### Assignment:\n",
    "1. Perform the following data cleaning on transcripts:\n",
    "i) Make text all lower case\n",
    "ii) Remove punctuation\n",
    "iii) Remove numerical values\n",
    "iv) Remove common non-sensical text (/n)\n",
    "v) Tokenize text\n",
    "vi) Remove stop words"
   ]
  },
  {
   "cell_type": "code",
   "execution_count": 39,
   "metadata": {},
   "outputs": [
    {
     "data": {
      "text/plain": [
       "'chatgpt'"
      ]
     },
     "execution_count": 39,
     "metadata": {},
     "output_type": "execute_result"
    }
   ],
   "source": [
    "# Let's take a look at our data again\n",
    "next(iter(data.keys()))"
   ]
  },
  {
   "cell_type": "code",
   "execution_count": 40,
   "metadata": {},
   "outputs": [
    {
     "data": {
      "text/plain": [
       "['ChatGPT sparks investment frenzy and soul searching in China’s artificial intelligence drive | South China Morning Post ',\n",
       " 'South China Morning PostAdvertisementAdvertisementArtificial intelligence+ FOLLOWGet more with myNEWSA personalised news feed of stories that matter to youLearn more China has been pouring billions of dollars into artificial intelligence development, but censorship and technological limitations may hinder the country’s drive to build a a true competitor to ChatGPT. Illustration: Lau Ka-kuenTechBig TechChatGPT sparks investment frenzy and soul searching in China’s artificial intelligence driveWhile China had declared AI strategically important as early as 2018, ChatGPT has shattered illusions about the country’s technological prowess\\nA censored internet, compounded by the lack of access to advanced chips, could hinder China’s ambitions to create a true equivalent to ChatGPT\\nArtificial intelligence+ FOLLOWBen Jiangin BeijingandCoco Fengin BeijingPublished: 10:00am, 1 Apr, 2023Why you can trust SCMP When the world first witnessed the power of OpenAI’s conversational bot ChatGPT late last year, one social media post quickly went viral in China, attempting to explain why this artificial intelligence (AI) breakthrough did not happen in the country.The most widely-shared answer, provided by an anonymous author, was that Chinese technology firms were just too short-sighted to bear the cost of long-term investment, choosing instead to rush towards technologies that can be quickly commercialised.\\n“When the kid next door publishes a revolutionary doctorate paper, don’t ask why that kid is so smart,” it said. “You also have a smart kid in your house, but instead of supporting his study, you asked him to make quick money while he was still able to perform manual labour.”Many netizens find the metaphor apt in describing the root of China’s technological shortcomings. Despite strong policy and financial support by the state, as well as ample private investment, the country has been unable to beat the US to the punch in creating a cutting-edge AI chatbot like ChatGPT.In 2018, President Xi Jinping conducted a special study session with the Politburo. It concluded that AI was strategically important, and could lead to a technological revolution and industrial changes with “profound impact on economic development, social progress, and the pattern of the international political economy”.With the blessing of China’s top leadership, government and private funding poured into domestic AI start-ups.Chinese AI start-up launched a household robot in 2022, designed to play Chinese chess with humans. Photo: HandoutIn the ensuing years, the country saw the emergence of the “four little dragons” – Cloudwalk Technology, Megvii, SenseTime, and Yitu – all focused on the AI field of visual recognition.Meanwhile, commercial products bearing the AI label have flooded the Chinese market. SenseTime, for instance, launched a robot designed solely for teaching kids how to play chess.By 2021, Chinese firms claimed to have produced 21 large language models, up from just two in 2020, putting them on a par with the United States. A large language model, according to AI chip designer Nvidia, represents a deep-learning algorithm that can recognise, summarise, translate, predict and generate text and other content based on knowledge gained from massive data sets.But the arrival of ChatGPT shattered the illusion that China and the US were competing neck and neck in AI.Zhou Hongyi, founder of 360 Security Technology, says China’s AI development lags behind the level of OpenAI. Photo: ShutterstockChina’s knowledge level in AI is two to three years behind OpenAI, the San Francisco-based start-up that created ChatGPT, said Zhou Hongyi, founder of cybersecurity firm 360 Security Technology and an industry veteran with close ties to Chinese authorities, at the China Development Forum last weekend.That technological gap, however, has not deterred Chinese companies and entrepreneurs from touting their own plans to launch their own ChatGPT rivals in the country, where the chatbot is not officially available, because of the government’s attitude towards uncensored content.In March, internet search giant Baidu launched Ernie Bot, becoming the first major tech company in China to launch its own GPT-like service. Wang Huiwen, co-founder of on-demand services giant Meituan, and Lee Kai-fu, former China head of Google, have both started new ventures to explore the business potential of generative AI.But analysts caution that this gold rush could be short-lived owing to lack of technical expertise and experience, compounded by US export restrictions on AI chips, which would hinder the development of a true ChatGPT-equivalent in China.Lee Kai-fu, former head of Google China, has launched a new venture looking into the business potential of ChatGPT-like technologies. Photo: Edmond SoThe fanfare around ChatGPT only shows how much the market is craving for a new investment narrative, according to Bo Pei, an equity analyst at Tiger Securities. “After so many years of development, both the Western and Chinese internet industries are saturated and thirsting for a new direction.”“It is questionable how soon ChatGPT-like tools will actually make an impact or produce meaningful revenue,” Bo said.One big obstacle is China’s walled internet. With the Chinese government prohibiting the country’s more than 1 billion internet users from accessing uncensored content, the materials that researchers can use to train AI engines are more limited than in the West.A random test conducted by the Post last month, for example, found that Baidu’s Ernie Bot was unable to answer questions related to topics deemed politically sensitive by Beijing. When asked if China was a democratic nation, the chatbot ducked the question, simply replying that it “hasn’t learned how to answer this question yet”.Baidu CEO Robin Li Yanhong introduces the functions of Ernie Bot during a launch event in Beijing on March 16. Photo: AP Photo“Censorship could certainly hinder China’s ability to develop a local equivalent to ChatGPT,” Dahlia Peterson, a research analyst at Georgetown University’s Centre for Security and Emerging Technology, said in February.“Even if [Chinese] AI companies are able to access and utilise global data and research resources to train their AI models, it is unlikely Chinese authorities will allow them to use any material deemed as politically sensitive in their replies,” she added.While censorship will not stop China from coming up with its own answers to ChatGPT, much in the same way that the country developed its own search engines after Google pulled out of the market, it could take two to three years for Chinese industry players to develop models that are at least 80 per cent as powerful as ChatGPT, according to research company Third Bridge.And as China continues to fence off its internet, its gap with global AI leaders, such as the US, could widen. Within just four months after the public launch of ChatGPT in November, OpenAI released its next-generation language prediction model GPT-4, which has more sophisticated capabilities, including the ability to analyse images.A sign at the Nvidia headquarters in Santa Clara, California. Photo: Getty Images via AFPChina’s lack of access to the best chips for AI training could further delay its efforts to catch up with the US, according to Phelix Lee, an equity analyst at Morningstar Asia.American semiconductor giant Nvidia, which holds a virtual monopoly over high-end AI chips, is restricted by Washington from exporting its H100 and A100 chips to clients in China. The company now produces tailor-made chips, which are of lower performance, for the Chinese market.Chinese AI “development may be bottlenecked by US restrictions if China is unable to increase hardware sufficiency, and the severity of the bottleneck depends on how sophisticated AI systems become”, Lee said.The immensity of that challenge may well be illustrated by the reluctance of Chinese tech giants, save for Baidu, to show off any ChatGPT-like services to the public.Alibaba Group Holding, which has invested in large language models, has not said when it will roll out its own ChatGPT rival. Photo: BloombergAlibaba Group Holding, owner of the Post, has yet to provide a timetable for the launch of a commercial product based on its large language models, despite having invested in AI for years.Tencent Holdings has not provided any launch plans either, only saying it “will keep investing in cutting-edge technologies”, such as machine learning.Baidu, meanwhile, finds its Ernie Bot being constantly compared to ChatGPT. While the company’s shares gained 14 per cent on the February day that it announced plans to launch an intelligent chatbot, they lost 10 per cent on Ernie Bot’s launch day, when founder Robin Li Yanhong showed the technology with pre-recorded videos rather than a live demonstration.Last month, Li admitted that Ernie Bot lagged behind ChatGPT for about “one or two months”. But he also played down the geopolitical implications of Ernie Bot, saying that it “isn’t a tool for China to compete against the United States”.Sam Altman, CEO and co-founder of Open AI, speaks during an event at the Microsoft headquarters in Redmond, Washington in February. Photo: BloombergIt is too early to predict how much revenue or profit companies can generate from the likes of ChatGPT, as businesses are still exploring real-life applications of these chat bots, according to Wang Kai, a senior equity analyst at Morningstar Asia.“We are encouraged by the possibilities, but we still need to figure out how exactly [chatbots] will be monetised,” he said.Baidu has said it wants to integrate Ernie Bot across all its existing businesses, starting with its search engine, to “reshape the way information is generated and presented”. The technology will eventually be used to support Baidu’s smart speaker Xiaodu, self-driving unit Apollo, and video platform iQiyi, the company said.Over 650 Chinese organisations have announced partnerships with Ernie Bot, including smartphone brand Honor, travel-booking site Ctrip, carmaker Geely Auto, and electronics giants Lenovo Group and TCL, according to Baidu.\\n02:27Baidu unveils China’s answer to ChatGPT, sends stocks tumblingBaidu unveils China’s answer to ChatGPT, sends stocks tumblingStill, even as more Chinese tech firms jump on the chatbot bandwagon, many might see their costly bets failing to pan out, according to Lu Yanxia, research director at information technology consultancy IDC.Solely relying on large language models will not provide a sustained edge for any firm, Lu wrote in a research note in February. ChatGPT-like technologies will also have a limited impact on the market at the moment, while many related AI models might even become irrelevant in the long run, she said.“The true revelation [of ChatGPT] is that these language models will evolve and contribute to the advent of general AI, and that the application of these language models will push for a paradigm shift in AI development and narrow down the industry chain,” the research concluded.Some experts have gone as far as calling for tech companies and researchers around the world to pause the training of AI models more powerful than GPT-4.Tesla CEO Elon Musk is among dozens of tech industry veterans who have signed an open letter calling for a halt in the training of AI models more intelligent than GPT-4. Photo: Getty Images/TNS“AI systems with human-competitive intelligence can pose profound risks to society and humanity,” the Future of Life Institute wrote in an open letter this week, signed by Tesla founder Elon Musk, Apple co-founder Steve Wozniak and dozens of other tech veterans.“Should we automate away all the jobs, including the fulfilling ones? Should we develop non-human minds that might eventually outnumber, outsmart, make us obsolete and replace us?” it asked.“Such decisions must not be delegated to unelected tech leaders. Powerful AI systems should be developed only once we are confident that their effects will be positive and their risks will be manageable,” it said.20']"
      ]
     },
     "execution_count": 40,
     "metadata": {},
     "output_type": "execute_result"
    }
   ],
   "source": [
    "# Notice that our dictionary is currently in key: comedian, value: list of text format\n",
    "next(iter(data.values()))"
   ]
  },
  {
   "cell_type": "code",
   "execution_count": 41,
   "metadata": {},
   "outputs": [],
   "source": [
    "# We are going to change this to key: comedian, value: string format\n",
    "def combine_text(list_of_text):\n",
    "    '''Takes a list of text and combines them into one large chunk of text.'''\n",
    "    combined_text = ' '.join(list_of_text)\n",
    "    return combined_text"
   ]
  },
  {
   "cell_type": "code",
   "execution_count": 42,
   "metadata": {},
   "outputs": [],
   "source": [
    "# Combine it!\n",
    "data_combined = {key: [combine_text(value)] for (key, value) in data.items()}"
   ]
  },
  {
   "cell_type": "code",
   "execution_count": 43,
   "metadata": {},
   "outputs": [
    {
     "data": {
      "text/html": [
       "<div>\n",
       "<style scoped>\n",
       "    .dataframe tbody tr th:only-of-type {\n",
       "        vertical-align: middle;\n",
       "    }\n",
       "\n",
       "    .dataframe tbody tr th {\n",
       "        vertical-align: top;\n",
       "    }\n",
       "\n",
       "    .dataframe thead th {\n",
       "        text-align: right;\n",
       "    }\n",
       "</style>\n",
       "<table border=\"1\" class=\"dataframe\">\n",
       "  <thead>\n",
       "    <tr style=\"text-align: right;\">\n",
       "      <th></th>\n",
       "      <th>transcript</th>\n",
       "    </tr>\n",
       "  </thead>\n",
       "  <tbody>\n",
       "    <tr>\n",
       "      <th>chatgpt</th>\n",
       "      <td>ChatGPT sparks investment frenzy and soul searching in China’s artificial intelligence drive | South China Morning Post  South China Morning PostA...</td>\n",
       "    </tr>\n",
       "    <tr>\n",
       "      <th>ecnyplan</th>\n",
       "      <td>China’s ambitious e-CNY plan faces a giant hurdle: winning over 1 billion consumers at home | South China Morning Post  South China Morning PostAd...</td>\n",
       "    </tr>\n",
       "    <tr>\n",
       "      <th>metaverse</th>\n",
       "      <td>Will NFT, metaverse developments in Hong Kong help deliver the city’s next ‘Octopus moment’ in a post-pandemic world? | South China Morning Post  ...</td>\n",
       "    </tr>\n",
       "    <tr>\n",
       "      <th>nvidia</th>\n",
       "      <td>Tech war: Nvidia’s stellar results show it can thrive amid China decoupling as it lists Huawei as potential AI chip rival | South China Morning Po...</td>\n",
       "    </tr>\n",
       "    <tr>\n",
       "      <th>openai-sora</th>\n",
       "      <td>OpenAI’s Sora pours ‘cold water’ on China’s AI dreams, as text-to-video advancements prompt more soul-searching | South China Morning Post  South ...</td>\n",
       "    </tr>\n",
       "    <tr>\n",
       "      <th>techwar</th>\n",
       "      <td>Tech war: China’s push to forge a chip coalition in Asia falters as Washington expected to tighten the screws in 2023 | South China Morning Post  ...</td>\n",
       "    </tr>\n",
       "    <tr>\n",
       "      <th>tencent</th>\n",
       "      <td>China antitrust: Tencent’s outsized share of online music-streaming market could put its holdings at risk | South China Morning Post  South China ...</td>\n",
       "    </tr>\n",
       "  </tbody>\n",
       "</table>\n",
       "</div>"
      ],
      "text/plain": [
       "                                                                                                                                                        transcript\n",
       "chatgpt      ChatGPT sparks investment frenzy and soul searching in China’s artificial intelligence drive | South China Morning Post  South China Morning PostA...\n",
       "ecnyplan     China’s ambitious e-CNY plan faces a giant hurdle: winning over 1 billion consumers at home | South China Morning Post  South China Morning PostAd...\n",
       "metaverse    Will NFT, metaverse developments in Hong Kong help deliver the city’s next ‘Octopus moment’ in a post-pandemic world? | South China Morning Post  ...\n",
       "nvidia       Tech war: Nvidia’s stellar results show it can thrive amid China decoupling as it lists Huawei as potential AI chip rival | South China Morning Po...\n",
       "openai-sora  OpenAI’s Sora pours ‘cold water’ on China’s AI dreams, as text-to-video advancements prompt more soul-searching | South China Morning Post  South ...\n",
       "techwar      Tech war: China’s push to forge a chip coalition in Asia falters as Washington expected to tighten the screws in 2023 | South China Morning Post  ...\n",
       "tencent      China antitrust: Tencent’s outsized share of online music-streaming market could put its holdings at risk | South China Morning Post  South China ..."
      ]
     },
     "execution_count": 43,
     "metadata": {},
     "output_type": "execute_result"
    }
   ],
   "source": [
    "# We can either keep it in dictionary format or put it into a pandas dataframe\n",
    "import pandas as pd\n",
    "pd.set_option('max_colwidth',150)\n",
    "\n",
    "data_df = pd.DataFrame.from_dict(data_combined).transpose()\n",
    "data_df.columns = ['transcript']\n",
    "data_df = data_df.sort_index()\n",
    "data_df"
   ]
  },
  {
   "cell_type": "code",
   "execution_count": 44,
   "metadata": {},
   "outputs": [
    {
     "data": {
      "text/plain": [
       "'ChatGPT sparks investment frenzy and soul searching in China’s artificial intelligence drive | South China Morning Post  South China Morning PostAdvertisementAdvertisementArtificial intelligence+ FOLLOWGet more with myNEWSA personalised news feed of stories that matter to youLearn more China has been pouring billions of dollars into artificial intelligence development, but censorship and technological limitations may hinder the country’s drive to build a a true competitor to ChatGPT. Illustration: Lau Ka-kuenTechBig TechChatGPT sparks investment frenzy and soul searching in China’s artificial intelligence driveWhile China had declared AI strategically important as early as 2018, ChatGPT has shattered illusions about the country’s technological prowess\\nA censored internet, compounded by the lack of access to advanced chips, could hinder China’s ambitions to create a true equivalent to ChatGPT\\nArtificial intelligence+ FOLLOWBen Jiangin BeijingandCoco Fengin BeijingPublished: 10:00am, 1 Apr, 2023Why you can trust SCMP When the world first witnessed the power of OpenAI’s conversational bot ChatGPT late last year, one social media post quickly went viral in China, attempting to explain why this artificial intelligence (AI) breakthrough did not happen in the country.The most widely-shared answer, provided by an anonymous author, was that Chinese technology firms were just too short-sighted to bear the cost of long-term investment, choosing instead to rush towards technologies that can be quickly commercialised.\\n“When the kid next door publishes a revolutionary doctorate paper, don’t ask why that kid is so smart,” it said. “You also have a smart kid in your house, but instead of supporting his study, you asked him to make quick money while he was still able to perform manual labour.”Many netizens find the metaphor apt in describing the root of China’s technological shortcomings. Despite strong policy and financial support by the state, as well as ample private investment, the country has been unable to beat the US to the punch in creating a cutting-edge AI chatbot like ChatGPT.In 2018, President Xi Jinping conducted a special study session with the Politburo. It concluded that AI was strategically important, and could lead to a technological revolution and industrial changes with “profound impact on economic development, social progress, and the pattern of the international political economy”.With the blessing of China’s top leadership, government and private funding poured into domestic AI start-ups.Chinese AI start-up launched a household robot in 2022, designed to play Chinese chess with humans. Photo: HandoutIn the ensuing years, the country saw the emergence of the “four little dragons” – Cloudwalk Technology, Megvii, SenseTime, and Yitu – all focused on the AI field of visual recognition.Meanwhile, commercial products bearing the AI label have flooded the Chinese market. SenseTime, for instance, launched a robot designed solely for teaching kids how to play chess.By 2021, Chinese firms claimed to have produced 21 large language models, up from just two in 2020, putting them on a par with the United States. A large language model, according to AI chip designer Nvidia, represents a deep-learning algorithm that can recognise, summarise, translate, predict and generate text and other content based on knowledge gained from massive data sets.But the arrival of ChatGPT shattered the illusion that China and the US were competing neck and neck in AI.Zhou Hongyi, founder of 360 Security Technology, says China’s AI development lags behind the level of OpenAI. Photo: ShutterstockChina’s knowledge level in AI is two to three years behind OpenAI, the San Francisco-based start-up that created ChatGPT, said Zhou Hongyi, founder of cybersecurity firm 360 Security Technology and an industry veteran with close ties to Chinese authorities, at the China Development Forum last weekend.That technological gap, however, has not deterred Chinese companies and entrepreneurs from touting their own plans to launch their own ChatGPT rivals in the country, where the chatbot is not officially available, because of the government’s attitude towards uncensored content.In March, internet search giant Baidu launched Ernie Bot, becoming the first major tech company in China to launch its own GPT-like service. Wang Huiwen, co-founder of on-demand services giant Meituan, and Lee Kai-fu, former China head of Google, have both started new ventures to explore the business potential of generative AI.But analysts caution that this gold rush could be short-lived owing to lack of technical expertise and experience, compounded by US export restrictions on AI chips, which would hinder the development of a true ChatGPT-equivalent in China.Lee Kai-fu, former head of Google China, has launched a new venture looking into the business potential of ChatGPT-like technologies. Photo: Edmond SoThe fanfare around ChatGPT only shows how much the market is craving for a new investment narrative, according to Bo Pei, an equity analyst at Tiger Securities. “After so many years of development, both the Western and Chinese internet industries are saturated and thirsting for a new direction.”“It is questionable how soon ChatGPT-like tools will actually make an impact or produce meaningful revenue,” Bo said.One big obstacle is China’s walled internet. With the Chinese government prohibiting the country’s more than 1 billion internet users from accessing uncensored content, the materials that researchers can use to train AI engines are more limited than in the West.A random test conducted by the Post last month, for example, found that Baidu’s Ernie Bot was unable to answer questions related to topics deemed politically sensitive by Beijing. When asked if China was a democratic nation, the chatbot ducked the question, simply replying that it “hasn’t learned how to answer this question yet”.Baidu CEO Robin Li Yanhong introduces the functions of Ernie Bot during a launch event in Beijing on March 16. Photo: AP Photo“Censorship could certainly hinder China’s ability to develop a local equivalent to ChatGPT,” Dahlia Peterson, a research analyst at Georgetown University’s Centre for Security and Emerging Technology, said in February.“Even if [Chinese] AI companies are able to access and utilise global data and research resources to train their AI models, it is unlikely Chinese authorities will allow them to use any material deemed as politically sensitive in their replies,” she added.While censorship will not stop China from coming up with its own answers to ChatGPT, much in the same way that the country developed its own search engines after Google pulled out of the market, it could take two to three years for Chinese industry players to develop models that are at least 80 per cent as powerful as ChatGPT, according to research company Third Bridge.And as China continues to fence off its internet, its gap with global AI leaders, such as the US, could widen. Within just four months after the public launch of ChatGPT in November, OpenAI released its next-generation language prediction model GPT-4, which has more sophisticated capabilities, including the ability to analyse images.A sign at the Nvidia headquarters in Santa Clara, California. Photo: Getty Images via AFPChina’s lack of access to the best chips for AI training could further delay its efforts to catch up with the US, according to Phelix Lee, an equity analyst at Morningstar Asia.American semiconductor giant Nvidia, which holds a virtual monopoly over high-end AI chips, is restricted by Washington from exporting its H100 and A100 chips to clients in China. The company now produces tailor-made chips, which are of lower performance, for the Chinese market.Chinese AI “development may be bottlenecked by US restrictions if China is unable to increase hardware sufficiency, and the severity of the bottleneck depends on how sophisticated AI systems become”, Lee said.The immensity of that challenge may well be illustrated by the reluctance of Chinese tech giants, save for Baidu, to show off any ChatGPT-like services to the public.Alibaba Group Holding, which has invested in large language models, has not said when it will roll out its own ChatGPT rival. Photo: BloombergAlibaba Group Holding, owner of the Post, has yet to provide a timetable for the launch of a commercial product based on its large language models, despite having invested in AI for years.Tencent Holdings has not provided any launch plans either, only saying it “will keep investing in cutting-edge technologies”, such as machine learning.Baidu, meanwhile, finds its Ernie Bot being constantly compared to ChatGPT. While the company’s shares gained 14 per cent on the February day that it announced plans to launch an intelligent chatbot, they lost 10 per cent on Ernie Bot’s launch day, when founder Robin Li Yanhong showed the technology with pre-recorded videos rather than a live demonstration.Last month, Li admitted that Ernie Bot lagged behind ChatGPT for about “one or two months”. But he also played down the geopolitical implications of Ernie Bot, saying that it “isn’t a tool for China to compete against the United States”.Sam Altman, CEO and co-founder of Open AI, speaks during an event at the Microsoft headquarters in Redmond, Washington in February. Photo: BloombergIt is too early to predict how much revenue or profit companies can generate from the likes of ChatGPT, as businesses are still exploring real-life applications of these chat bots, according to Wang Kai, a senior equity analyst at Morningstar Asia.“We are encouraged by the possibilities, but we still need to figure out how exactly [chatbots] will be monetised,” he said.Baidu has said it wants to integrate Ernie Bot across all its existing businesses, starting with its search engine, to “reshape the way information is generated and presented”. The technology will eventually be used to support Baidu’s smart speaker Xiaodu, self-driving unit Apollo, and video platform iQiyi, the company said.Over 650 Chinese organisations have announced partnerships with Ernie Bot, including smartphone brand Honor, travel-booking site Ctrip, carmaker Geely Auto, and electronics giants Lenovo Group and TCL, according to Baidu.\\n02:27Baidu unveils China’s answer to ChatGPT, sends stocks tumblingBaidu unveils China’s answer to ChatGPT, sends stocks tumblingStill, even as more Chinese tech firms jump on the chatbot bandwagon, many might see their costly bets failing to pan out, according to Lu Yanxia, research director at information technology consultancy IDC.Solely relying on large language models will not provide a sustained edge for any firm, Lu wrote in a research note in February. ChatGPT-like technologies will also have a limited impact on the market at the moment, while many related AI models might even become irrelevant in the long run, she said.“The true revelation [of ChatGPT] is that these language models will evolve and contribute to the advent of general AI, and that the application of these language models will push for a paradigm shift in AI development and narrow down the industry chain,” the research concluded.Some experts have gone as far as calling for tech companies and researchers around the world to pause the training of AI models more powerful than GPT-4.Tesla CEO Elon Musk is among dozens of tech industry veterans who have signed an open letter calling for a halt in the training of AI models more intelligent than GPT-4. Photo: Getty Images/TNS“AI systems with human-competitive intelligence can pose profound risks to society and humanity,” the Future of Life Institute wrote in an open letter this week, signed by Tesla founder Elon Musk, Apple co-founder Steve Wozniak and dozens of other tech veterans.“Should we automate away all the jobs, including the fulfilling ones? Should we develop non-human minds that might eventually outnumber, outsmart, make us obsolete and replace us?” it asked.“Such decisions must not be delegated to unelected tech leaders. Powerful AI systems should be developed only once we are confident that their effects will be positive and their risks will be manageable,” it said.20'"
      ]
     },
     "execution_count": 44,
     "metadata": {},
     "output_type": "execute_result"
    }
   ],
   "source": [
    "# Let's take a look at the transcript for Ali Wong\n",
    "data_df.transcript.loc['chatgpt']"
   ]
  },
  {
   "cell_type": "code",
   "execution_count": 45,
   "metadata": {},
   "outputs": [],
   "source": [
    "# Apply a first round of text cleaning techniques\n",
    "import re\n",
    "import string\n",
    "\n",
    "def clean_text_round1(text):\n",
    "    '''Make text lowercase, remove text in square brackets, remove punctuation and remove words containing numbers.'''\n",
    "    text = text.lower()\n",
    "    text = re.sub('\\[.*?\\]', '', text)\n",
    "    text = re.sub('[%s]' % re.escape(string.punctuation), '', text)\n",
    "    text = re.sub('\\w*\\d\\w*', '', text)\n",
    "    return text\n",
    "\n",
    "round1 = lambda x: clean_text_round1(x)"
   ]
  },
  {
   "cell_type": "code",
   "execution_count": 46,
   "metadata": {},
   "outputs": [
    {
     "data": {
      "text/html": [
       "<div>\n",
       "<style scoped>\n",
       "    .dataframe tbody tr th:only-of-type {\n",
       "        vertical-align: middle;\n",
       "    }\n",
       "\n",
       "    .dataframe tbody tr th {\n",
       "        vertical-align: top;\n",
       "    }\n",
       "\n",
       "    .dataframe thead th {\n",
       "        text-align: right;\n",
       "    }\n",
       "</style>\n",
       "<table border=\"1\" class=\"dataframe\">\n",
       "  <thead>\n",
       "    <tr style=\"text-align: right;\">\n",
       "      <th></th>\n",
       "      <th>transcript</th>\n",
       "    </tr>\n",
       "  </thead>\n",
       "  <tbody>\n",
       "    <tr>\n",
       "      <th>chatgpt</th>\n",
       "      <td>chatgpt sparks investment frenzy and soul searching in china’s artificial intelligence drive  south china morning post  south china morning postad...</td>\n",
       "    </tr>\n",
       "    <tr>\n",
       "      <th>ecnyplan</th>\n",
       "      <td>china’s ambitious ecny plan faces a giant hurdle winning over  billion consumers at home  south china morning post  south china morning postadvert...</td>\n",
       "    </tr>\n",
       "    <tr>\n",
       "      <th>metaverse</th>\n",
       "      <td>will nft metaverse developments in hong kong help deliver the city’s next ‘octopus moment’ in a postpandemic world  south china morning post  sout...</td>\n",
       "    </tr>\n",
       "    <tr>\n",
       "      <th>nvidia</th>\n",
       "      <td>tech war nvidia’s stellar results show it can thrive amid china decoupling as it lists huawei as potential ai chip rival  south china morning post...</td>\n",
       "    </tr>\n",
       "    <tr>\n",
       "      <th>openai-sora</th>\n",
       "      <td>openai’s sora pours ‘cold water’ on china’s ai dreams as texttovideo advancements prompt more soulsearching  south china morning post  south china...</td>\n",
       "    </tr>\n",
       "    <tr>\n",
       "      <th>techwar</th>\n",
       "      <td>tech war china’s push to forge a chip coalition in asia falters as washington expected to tighten the screws in   south china morning post  south ...</td>\n",
       "    </tr>\n",
       "    <tr>\n",
       "      <th>tencent</th>\n",
       "      <td>china antitrust tencent’s outsized share of online musicstreaming market could put its holdings at risk  south china morning post  south china mor...</td>\n",
       "    </tr>\n",
       "  </tbody>\n",
       "</table>\n",
       "</div>"
      ],
      "text/plain": [
       "                                                                                                                                                        transcript\n",
       "chatgpt      chatgpt sparks investment frenzy and soul searching in china’s artificial intelligence drive  south china morning post  south china morning postad...\n",
       "ecnyplan     china’s ambitious ecny plan faces a giant hurdle winning over  billion consumers at home  south china morning post  south china morning postadvert...\n",
       "metaverse    will nft metaverse developments in hong kong help deliver the city’s next ‘octopus moment’ in a postpandemic world  south china morning post  sout...\n",
       "nvidia       tech war nvidia’s stellar results show it can thrive amid china decoupling as it lists huawei as potential ai chip rival  south china morning post...\n",
       "openai-sora  openai’s sora pours ‘cold water’ on china’s ai dreams as texttovideo advancements prompt more soulsearching  south china morning post  south china...\n",
       "techwar      tech war china’s push to forge a chip coalition in asia falters as washington expected to tighten the screws in   south china morning post  south ...\n",
       "tencent      china antitrust tencent’s outsized share of online musicstreaming market could put its holdings at risk  south china morning post  south china mor..."
      ]
     },
     "execution_count": 46,
     "metadata": {},
     "output_type": "execute_result"
    }
   ],
   "source": [
    "# Let's take a look at the updated text\n",
    "data_clean = pd.DataFrame(data_df.transcript.apply(round1))\n",
    "data_clean"
   ]
  },
  {
   "cell_type": "code",
   "execution_count": 47,
   "metadata": {},
   "outputs": [],
   "source": [
    "# Apply a second round of cleaning\n",
    "def clean_text_round2(text):\n",
    "    '''Get rid of some additional punctuation and non-sensical text that was missed the first time around.'''\n",
    "    text = re.sub('[‘’“”…]', '', text)\n",
    "    text = re.sub('\\n', '', text)\n",
    "    return text\n",
    "\n",
    "round2 = lambda x: clean_text_round2(x)"
   ]
  },
  {
   "cell_type": "code",
   "execution_count": 48,
   "metadata": {},
   "outputs": [
    {
     "data": {
      "text/html": [
       "<div>\n",
       "<style scoped>\n",
       "    .dataframe tbody tr th:only-of-type {\n",
       "        vertical-align: middle;\n",
       "    }\n",
       "\n",
       "    .dataframe tbody tr th {\n",
       "        vertical-align: top;\n",
       "    }\n",
       "\n",
       "    .dataframe thead th {\n",
       "        text-align: right;\n",
       "    }\n",
       "</style>\n",
       "<table border=\"1\" class=\"dataframe\">\n",
       "  <thead>\n",
       "    <tr style=\"text-align: right;\">\n",
       "      <th></th>\n",
       "      <th>transcript</th>\n",
       "    </tr>\n",
       "  </thead>\n",
       "  <tbody>\n",
       "    <tr>\n",
       "      <th>chatgpt</th>\n",
       "      <td>chatgpt sparks investment frenzy and soul searching in chinas artificial intelligence drive  south china morning post  south china morning postadv...</td>\n",
       "    </tr>\n",
       "    <tr>\n",
       "      <th>ecnyplan</th>\n",
       "      <td>chinas ambitious ecny plan faces a giant hurdle winning over  billion consumers at home  south china morning post  south china morning postadverti...</td>\n",
       "    </tr>\n",
       "    <tr>\n",
       "      <th>metaverse</th>\n",
       "      <td>will nft metaverse developments in hong kong help deliver the citys next octopus moment in a postpandemic world  south china morning post  south c...</td>\n",
       "    </tr>\n",
       "    <tr>\n",
       "      <th>nvidia</th>\n",
       "      <td>tech war nvidias stellar results show it can thrive amid china decoupling as it lists huawei as potential ai chip rival  south china morning post ...</td>\n",
       "    </tr>\n",
       "    <tr>\n",
       "      <th>openai-sora</th>\n",
       "      <td>openais sora pours cold water on chinas ai dreams as texttovideo advancements prompt more soulsearching  south china morning post  south china mor...</td>\n",
       "    </tr>\n",
       "    <tr>\n",
       "      <th>techwar</th>\n",
       "      <td>tech war chinas push to forge a chip coalition in asia falters as washington expected to tighten the screws in   south china morning post  south c...</td>\n",
       "    </tr>\n",
       "    <tr>\n",
       "      <th>tencent</th>\n",
       "      <td>china antitrust tencents outsized share of online musicstreaming market could put its holdings at risk  south china morning post  south china morn...</td>\n",
       "    </tr>\n",
       "  </tbody>\n",
       "</table>\n",
       "</div>"
      ],
      "text/plain": [
       "                                                                                                                                                        transcript\n",
       "chatgpt      chatgpt sparks investment frenzy and soul searching in chinas artificial intelligence drive  south china morning post  south china morning postadv...\n",
       "ecnyplan     chinas ambitious ecny plan faces a giant hurdle winning over  billion consumers at home  south china morning post  south china morning postadverti...\n",
       "metaverse    will nft metaverse developments in hong kong help deliver the citys next octopus moment in a postpandemic world  south china morning post  south c...\n",
       "nvidia       tech war nvidias stellar results show it can thrive amid china decoupling as it lists huawei as potential ai chip rival  south china morning post ...\n",
       "openai-sora  openais sora pours cold water on chinas ai dreams as texttovideo advancements prompt more soulsearching  south china morning post  south china mor...\n",
       "techwar      tech war chinas push to forge a chip coalition in asia falters as washington expected to tighten the screws in   south china morning post  south c...\n",
       "tencent      china antitrust tencents outsized share of online musicstreaming market could put its holdings at risk  south china morning post  south china morn..."
      ]
     },
     "execution_count": 48,
     "metadata": {},
     "output_type": "execute_result"
    }
   ],
   "source": [
    "# Let's take a look at the updated text\n",
    "data_clean = pd.DataFrame(data_clean.transcript.apply(round2))\n",
    "data_clean"
   ]
  },
  {
   "cell_type": "markdown",
   "metadata": {},
   "source": [
    "## Organizing The Data"
   ]
  },
  {
   "cell_type": "markdown",
   "metadata": {},
   "source": [
    "### Assignment:\n",
    "1. Organized data in two standard text formats:\n",
    "   a) Corpus - corpus is a collection of texts, and they are all put together neatly in a pandas dataframe here.\n",
    "   b) Document-Term Matrix - word counts in matrix format"
   ]
  },
  {
   "cell_type": "markdown",
   "metadata": {},
   "source": [
    "### Corpus: Example"
   ]
  },
  {
   "cell_type": "markdown",
   "metadata": {},
   "source": [
    "A corpus is a collection of texts, and they are all put together neatly in a pandas dataframe here."
   ]
  },
  {
   "cell_type": "code",
   "execution_count": 49,
   "metadata": {},
   "outputs": [
    {
     "data": {
      "text/html": [
       "<div>\n",
       "<style scoped>\n",
       "    .dataframe tbody tr th:only-of-type {\n",
       "        vertical-align: middle;\n",
       "    }\n",
       "\n",
       "    .dataframe tbody tr th {\n",
       "        vertical-align: top;\n",
       "    }\n",
       "\n",
       "    .dataframe thead th {\n",
       "        text-align: right;\n",
       "    }\n",
       "</style>\n",
       "<table border=\"1\" class=\"dataframe\">\n",
       "  <thead>\n",
       "    <tr style=\"text-align: right;\">\n",
       "      <th></th>\n",
       "      <th>transcript</th>\n",
       "    </tr>\n",
       "  </thead>\n",
       "  <tbody>\n",
       "    <tr>\n",
       "      <th>chatgpt</th>\n",
       "      <td>ChatGPT sparks investment frenzy and soul searching in China’s artificial intelligence drive | South China Morning Post  South China Morning PostA...</td>\n",
       "    </tr>\n",
       "    <tr>\n",
       "      <th>ecnyplan</th>\n",
       "      <td>China’s ambitious e-CNY plan faces a giant hurdle: winning over 1 billion consumers at home | South China Morning Post  South China Morning PostAd...</td>\n",
       "    </tr>\n",
       "    <tr>\n",
       "      <th>metaverse</th>\n",
       "      <td>Will NFT, metaverse developments in Hong Kong help deliver the city’s next ‘Octopus moment’ in a post-pandemic world? | South China Morning Post  ...</td>\n",
       "    </tr>\n",
       "    <tr>\n",
       "      <th>nvidia</th>\n",
       "      <td>Tech war: Nvidia’s stellar results show it can thrive amid China decoupling as it lists Huawei as potential AI chip rival | South China Morning Po...</td>\n",
       "    </tr>\n",
       "    <tr>\n",
       "      <th>openai-sora</th>\n",
       "      <td>OpenAI’s Sora pours ‘cold water’ on China’s AI dreams, as text-to-video advancements prompt more soul-searching | South China Morning Post  South ...</td>\n",
       "    </tr>\n",
       "    <tr>\n",
       "      <th>techwar</th>\n",
       "      <td>Tech war: China’s push to forge a chip coalition in Asia falters as Washington expected to tighten the screws in 2023 | South China Morning Post  ...</td>\n",
       "    </tr>\n",
       "    <tr>\n",
       "      <th>tencent</th>\n",
       "      <td>China antitrust: Tencent’s outsized share of online music-streaming market could put its holdings at risk | South China Morning Post  South China ...</td>\n",
       "    </tr>\n",
       "  </tbody>\n",
       "</table>\n",
       "</div>"
      ],
      "text/plain": [
       "                                                                                                                                                        transcript\n",
       "chatgpt      ChatGPT sparks investment frenzy and soul searching in China’s artificial intelligence drive | South China Morning Post  South China Morning PostA...\n",
       "ecnyplan     China’s ambitious e-CNY plan faces a giant hurdle: winning over 1 billion consumers at home | South China Morning Post  South China Morning PostAd...\n",
       "metaverse    Will NFT, metaverse developments in Hong Kong help deliver the city’s next ‘Octopus moment’ in a post-pandemic world? | South China Morning Post  ...\n",
       "nvidia       Tech war: Nvidia’s stellar results show it can thrive amid China decoupling as it lists Huawei as potential AI chip rival | South China Morning Po...\n",
       "openai-sora  OpenAI’s Sora pours ‘cold water’ on China’s AI dreams, as text-to-video advancements prompt more soul-searching | South China Morning Post  South ...\n",
       "techwar      Tech war: China’s push to forge a chip coalition in Asia falters as Washington expected to tighten the screws in 2023 | South China Morning Post  ...\n",
       "tencent      China antitrust: Tencent’s outsized share of online music-streaming market could put its holdings at risk | South China Morning Post  South China ..."
      ]
     },
     "execution_count": 49,
     "metadata": {},
     "output_type": "execute_result"
    }
   ],
   "source": [
    "# Let's take a look at our dataframe\n",
    "data_df"
   ]
  },
  {
   "cell_type": "code",
   "execution_count": 50,
   "metadata": {},
   "outputs": [],
   "source": [
    "# Let's pickle it for later use\n",
    "data_df.to_pickle(\"corpus.pkl\")"
   ]
  },
  {
   "cell_type": "markdown",
   "metadata": {},
   "source": [
    "### Document-Term Matrix: Example"
   ]
  },
  {
   "cell_type": "markdown",
   "metadata": {},
   "source": [
    "For many of the techniques we'll be using in future assignment, the text must be tokenized, meaning broken down into smaller pieces. The most common tokenization technique is to break down text into words. We can do this using scikit-learn's ` CountVectorizer `, where every row will represent a different document and every column will represent a different word.\n",
    "\n",
    "In addition, with ` CountVectorizer `, we can remove stop words. Stop words are common words that add no additional meaning to text such as 'a', 'the', etc."
   ]
  },
  {
   "cell_type": "code",
   "execution_count": 51,
   "metadata": {},
   "outputs": [
    {
     "data": {
      "text/html": [
       "<div>\n",
       "<style scoped>\n",
       "    .dataframe tbody tr th:only-of-type {\n",
       "        vertical-align: middle;\n",
       "    }\n",
       "\n",
       "    .dataframe tbody tr th {\n",
       "        vertical-align: top;\n",
       "    }\n",
       "\n",
       "    .dataframe thead th {\n",
       "        text-align: right;\n",
       "    }\n",
       "</style>\n",
       "<table border=\"1\" class=\"dataframe\">\n",
       "  <thead>\n",
       "    <tr style=\"text-align: right;\">\n",
       "      <th></th>\n",
       "      <th>abandon</th>\n",
       "      <th>ability</th>\n",
       "      <th>able</th>\n",
       "      <th>absence</th>\n",
       "      <th>abused</th>\n",
       "      <th>academy</th>\n",
       "      <th>accelerate</th>\n",
       "      <th>accept</th>\n",
       "      <th>acceptance</th>\n",
       "      <th>accepted</th>\n",
       "      <th>...</th>\n",
       "      <th>yuans</th>\n",
       "      <th>yuetngor</th>\n",
       "      <th>zealandat</th>\n",
       "      <th>zhang</th>\n",
       "      <th>zhejiang</th>\n",
       "      <th>zhou</th>\n",
       "      <th>zhu</th>\n",
       "      <th>zhuat</th>\n",
       "      <th>zhuthat</th>\n",
       "      <th>zones</th>\n",
       "    </tr>\n",
       "  </thead>\n",
       "  <tbody>\n",
       "    <tr>\n",
       "      <th>chatgpt</th>\n",
       "      <td>0</td>\n",
       "      <td>2</td>\n",
       "      <td>2</td>\n",
       "      <td>0</td>\n",
       "      <td>0</td>\n",
       "      <td>0</td>\n",
       "      <td>0</td>\n",
       "      <td>0</td>\n",
       "      <td>0</td>\n",
       "      <td>0</td>\n",
       "      <td>...</td>\n",
       "      <td>0</td>\n",
       "      <td>0</td>\n",
       "      <td>0</td>\n",
       "      <td>0</td>\n",
       "      <td>0</td>\n",
       "      <td>1</td>\n",
       "      <td>0</td>\n",
       "      <td>0</td>\n",
       "      <td>0</td>\n",
       "      <td>0</td>\n",
       "    </tr>\n",
       "    <tr>\n",
       "      <th>ecnyplan</th>\n",
       "      <td>0</td>\n",
       "      <td>0</td>\n",
       "      <td>0</td>\n",
       "      <td>0</td>\n",
       "      <td>0</td>\n",
       "      <td>0</td>\n",
       "      <td>0</td>\n",
       "      <td>1</td>\n",
       "      <td>0</td>\n",
       "      <td>1</td>\n",
       "      <td>...</td>\n",
       "      <td>1</td>\n",
       "      <td>0</td>\n",
       "      <td>0</td>\n",
       "      <td>0</td>\n",
       "      <td>1</td>\n",
       "      <td>0</td>\n",
       "      <td>2</td>\n",
       "      <td>1</td>\n",
       "      <td>1</td>\n",
       "      <td>1</td>\n",
       "    </tr>\n",
       "    <tr>\n",
       "      <th>metaverse</th>\n",
       "      <td>0</td>\n",
       "      <td>1</td>\n",
       "      <td>0</td>\n",
       "      <td>0</td>\n",
       "      <td>0</td>\n",
       "      <td>1</td>\n",
       "      <td>0</td>\n",
       "      <td>0</td>\n",
       "      <td>1</td>\n",
       "      <td>0</td>\n",
       "      <td>...</td>\n",
       "      <td>0</td>\n",
       "      <td>1</td>\n",
       "      <td>1</td>\n",
       "      <td>0</td>\n",
       "      <td>0</td>\n",
       "      <td>0</td>\n",
       "      <td>0</td>\n",
       "      <td>0</td>\n",
       "      <td>0</td>\n",
       "      <td>0</td>\n",
       "    </tr>\n",
       "    <tr>\n",
       "      <th>nvidia</th>\n",
       "      <td>0</td>\n",
       "      <td>1</td>\n",
       "      <td>0</td>\n",
       "      <td>0</td>\n",
       "      <td>0</td>\n",
       "      <td>0</td>\n",
       "      <td>0</td>\n",
       "      <td>0</td>\n",
       "      <td>0</td>\n",
       "      <td>0</td>\n",
       "      <td>...</td>\n",
       "      <td>0</td>\n",
       "      <td>0</td>\n",
       "      <td>0</td>\n",
       "      <td>0</td>\n",
       "      <td>0</td>\n",
       "      <td>0</td>\n",
       "      <td>0</td>\n",
       "      <td>0</td>\n",
       "      <td>0</td>\n",
       "      <td>0</td>\n",
       "    </tr>\n",
       "    <tr>\n",
       "      <th>openai-sora</th>\n",
       "      <td>0</td>\n",
       "      <td>1</td>\n",
       "      <td>1</td>\n",
       "      <td>1</td>\n",
       "      <td>1</td>\n",
       "      <td>0</td>\n",
       "      <td>1</td>\n",
       "      <td>0</td>\n",
       "      <td>0</td>\n",
       "      <td>0</td>\n",
       "      <td>...</td>\n",
       "      <td>0</td>\n",
       "      <td>0</td>\n",
       "      <td>0</td>\n",
       "      <td>0</td>\n",
       "      <td>1</td>\n",
       "      <td>0</td>\n",
       "      <td>0</td>\n",
       "      <td>0</td>\n",
       "      <td>0</td>\n",
       "      <td>0</td>\n",
       "    </tr>\n",
       "    <tr>\n",
       "      <th>techwar</th>\n",
       "      <td>0</td>\n",
       "      <td>0</td>\n",
       "      <td>1</td>\n",
       "      <td>0</td>\n",
       "      <td>0</td>\n",
       "      <td>0</td>\n",
       "      <td>0</td>\n",
       "      <td>0</td>\n",
       "      <td>0</td>\n",
       "      <td>0</td>\n",
       "      <td>...</td>\n",
       "      <td>0</td>\n",
       "      <td>0</td>\n",
       "      <td>0</td>\n",
       "      <td>0</td>\n",
       "      <td>0</td>\n",
       "      <td>0</td>\n",
       "      <td>0</td>\n",
       "      <td>0</td>\n",
       "      <td>0</td>\n",
       "      <td>0</td>\n",
       "    </tr>\n",
       "    <tr>\n",
       "      <th>tencent</th>\n",
       "      <td>1</td>\n",
       "      <td>0</td>\n",
       "      <td>1</td>\n",
       "      <td>0</td>\n",
       "      <td>0</td>\n",
       "      <td>0</td>\n",
       "      <td>0</td>\n",
       "      <td>0</td>\n",
       "      <td>0</td>\n",
       "      <td>0</td>\n",
       "      <td>...</td>\n",
       "      <td>0</td>\n",
       "      <td>0</td>\n",
       "      <td>0</td>\n",
       "      <td>1</td>\n",
       "      <td>0</td>\n",
       "      <td>1</td>\n",
       "      <td>0</td>\n",
       "      <td>0</td>\n",
       "      <td>0</td>\n",
       "      <td>0</td>\n",
       "    </tr>\n",
       "  </tbody>\n",
       "</table>\n",
       "<p>7 rows × 2824 columns</p>\n",
       "</div>"
      ],
      "text/plain": [
       "             abandon  ability  able  absence  abused  academy  accelerate  \\\n",
       "chatgpt            0        2     2        0       0        0           0   \n",
       "ecnyplan           0        0     0        0       0        0           0   \n",
       "metaverse          0        1     0        0       0        1           0   \n",
       "nvidia             0        1     0        0       0        0           0   \n",
       "openai-sora        0        1     1        1       1        0           1   \n",
       "techwar            0        0     1        0       0        0           0   \n",
       "tencent            1        0     1        0       0        0           0   \n",
       "\n",
       "             accept  acceptance  accepted  ...  yuans  yuetngor  zealandat  \\\n",
       "chatgpt           0           0         0  ...      0         0          0   \n",
       "ecnyplan          1           0         1  ...      1         0          0   \n",
       "metaverse         0           1         0  ...      0         1          1   \n",
       "nvidia            0           0         0  ...      0         0          0   \n",
       "openai-sora       0           0         0  ...      0         0          0   \n",
       "techwar           0           0         0  ...      0         0          0   \n",
       "tencent           0           0         0  ...      0         0          0   \n",
       "\n",
       "             zhang  zhejiang  zhou  zhu  zhuat  zhuthat  zones  \n",
       "chatgpt          0         0     1    0      0        0      0  \n",
       "ecnyplan         0         1     0    2      1        1      1  \n",
       "metaverse        0         0     0    0      0        0      0  \n",
       "nvidia           0         0     0    0      0        0      0  \n",
       "openai-sora      0         1     0    0      0        0      0  \n",
       "techwar          0         0     0    0      0        0      0  \n",
       "tencent          1         0     1    0      0        0      0  \n",
       "\n",
       "[7 rows x 2824 columns]"
      ]
     },
     "execution_count": 51,
     "metadata": {},
     "output_type": "execute_result"
    }
   ],
   "source": [
    "# We are going to create a document-term matrix using CountVectorizer, and exclude common English stop words\n",
    "from sklearn.feature_extraction.text import CountVectorizer\n",
    "\n",
    "cv = CountVectorizer(stop_words='english')\n",
    "data_cv = cv.fit_transform(data_clean.transcript)\n",
    "data_dtm = pd.DataFrame(data_cv.toarray(), columns=cv.get_feature_names_out())\n",
    "data_dtm.index = data_clean.index\n",
    "data_dtm"
   ]
  },
  {
   "cell_type": "code",
   "execution_count": 52,
   "metadata": {},
   "outputs": [],
   "source": [
    "# Let's pickle it for later use\n",
    "data_dtm.to_pickle(\"dtm.pkl\")"
   ]
  },
  {
   "cell_type": "code",
   "execution_count": 53,
   "metadata": {},
   "outputs": [],
   "source": [
    "# Let's also pickle the cleaned data (before we put it in document-term matrix format) and the CountVectorizer object\n",
    "data_clean.to_pickle('data_clean.pkl')\n",
    "pickle.dump(cv, open(\"cv.pkl\", \"wb\"))"
   ]
  },
  {
   "cell_type": "markdown",
   "metadata": {
    "collapsed": true,
    "jupyter": {
     "outputs_hidden": true
    }
   },
   "source": [
    "## Additional Assignments:"
   ]
  },
  {
   "cell_type": "markdown",
   "metadata": {},
   "source": [
    "1. Can you add an additional regular expression to the clean_text_round2 function to further clean the text?\n",
    "2. Play around with CountVectorizer's parameters. What is ngram_range? What is min_df and max_df?"
   ]
  },
  {
   "cell_type": "code",
   "execution_count": 54,
   "metadata": {},
   "outputs": [],
   "source": [
    "def clean_text_round3(text):\n",
    "    text = re.sub('–', '', text)\n",
    "    text = re.sub('©️', '', text)\n",
    "    text = re.sub('\\xa0', '', text)\n",
    "    text = re.sub('\\xad', '', text)\n",
    "    text = re.sub('\\s+', ' ', text.strip())\n",
    "    return text\n",
    "\n",
    "round3 = lambda x: clean_text_round3(x)\n"
   ]
  },
  {
   "cell_type": "code",
   "execution_count": 55,
   "metadata": {},
   "outputs": [
    {
     "data": {
      "text/html": [
       "<div>\n",
       "<style scoped>\n",
       "    .dataframe tbody tr th:only-of-type {\n",
       "        vertical-align: middle;\n",
       "    }\n",
       "\n",
       "    .dataframe tbody tr th {\n",
       "        vertical-align: top;\n",
       "    }\n",
       "\n",
       "    .dataframe thead th {\n",
       "        text-align: right;\n",
       "    }\n",
       "</style>\n",
       "<table border=\"1\" class=\"dataframe\">\n",
       "  <thead>\n",
       "    <tr style=\"text-align: right;\">\n",
       "      <th></th>\n",
       "      <th>transcript</th>\n",
       "    </tr>\n",
       "  </thead>\n",
       "  <tbody>\n",
       "    <tr>\n",
       "      <th>chatgpt</th>\n",
       "      <td>chatgpt sparks investment frenzy and soul searching in chinas artificial intelligence drive south china morning post south china morning postadver...</td>\n",
       "    </tr>\n",
       "    <tr>\n",
       "      <th>ecnyplan</th>\n",
       "      <td>chinas ambitious ecny plan faces a giant hurdle winning over billion consumers at home south china morning post south china morning postadvertisem...</td>\n",
       "    </tr>\n",
       "    <tr>\n",
       "      <th>metaverse</th>\n",
       "      <td>will nft metaverse developments in hong kong help deliver the citys next octopus moment in a postpandemic world south china morning post south chi...</td>\n",
       "    </tr>\n",
       "    <tr>\n",
       "      <th>nvidia</th>\n",
       "      <td>tech war nvidias stellar results show it can thrive amid china decoupling as it lists huawei as potential ai chip rival south china morning post s...</td>\n",
       "    </tr>\n",
       "    <tr>\n",
       "      <th>openai-sora</th>\n",
       "      <td>openais sora pours cold water on chinas ai dreams as texttovideo advancements prompt more soulsearching south china morning post south china morni...</td>\n",
       "    </tr>\n",
       "    <tr>\n",
       "      <th>techwar</th>\n",
       "      <td>tech war chinas push to forge a chip coalition in asia falters as washington expected to tighten the screws in south china morning post south chin...</td>\n",
       "    </tr>\n",
       "    <tr>\n",
       "      <th>tencent</th>\n",
       "      <td>china antitrust tencents outsized share of online musicstreaming market could put its holdings at risk south china morning post south china mornin...</td>\n",
       "    </tr>\n",
       "  </tbody>\n",
       "</table>\n",
       "</div>"
      ],
      "text/plain": [
       "                                                                                                                                                        transcript\n",
       "chatgpt      chatgpt sparks investment frenzy and soul searching in chinas artificial intelligence drive south china morning post south china morning postadver...\n",
       "ecnyplan     chinas ambitious ecny plan faces a giant hurdle winning over billion consumers at home south china morning post south china morning postadvertisem...\n",
       "metaverse    will nft metaverse developments in hong kong help deliver the citys next octopus moment in a postpandemic world south china morning post south chi...\n",
       "nvidia       tech war nvidias stellar results show it can thrive amid china decoupling as it lists huawei as potential ai chip rival south china morning post s...\n",
       "openai-sora  openais sora pours cold water on chinas ai dreams as texttovideo advancements prompt more soulsearching south china morning post south china morni...\n",
       "techwar      tech war chinas push to forge a chip coalition in asia falters as washington expected to tighten the screws in south china morning post south chin...\n",
       "tencent      china antitrust tencents outsized share of online musicstreaming market could put its holdings at risk south china morning post south china mornin..."
      ]
     },
     "execution_count": 55,
     "metadata": {},
     "output_type": "execute_result"
    }
   ],
   "source": [
    "data_clean = pd.DataFrame(data_clean.transcript.apply(round3))\n",
    "data_clean"
   ]
  },
  {
   "cell_type": "code",
   "execution_count": 56,
   "metadata": {},
   "outputs": [
    {
     "data": {
      "text/html": [
       "<div>\n",
       "<style scoped>\n",
       "    .dataframe tbody tr th:only-of-type {\n",
       "        vertical-align: middle;\n",
       "    }\n",
       "\n",
       "    .dataframe tbody tr th {\n",
       "        vertical-align: top;\n",
       "    }\n",
       "\n",
       "    .dataframe thead th {\n",
       "        text-align: right;\n",
       "    }\n",
       "</style>\n",
       "<table border=\"1\" class=\"dataframe\">\n",
       "  <thead>\n",
       "    <tr style=\"text-align: right;\">\n",
       "      <th></th>\n",
       "      <th>ability</th>\n",
       "      <th>able</th>\n",
       "      <th>about</th>\n",
       "      <th>access</th>\n",
       "      <th>according</th>\n",
       "      <th>across</th>\n",
       "      <th>activity</th>\n",
       "      <th>administration</th>\n",
       "      <th>advanced</th>\n",
       "      <th>after</th>\n",
       "      <th>...</th>\n",
       "      <th>world</th>\n",
       "      <th>worlds</th>\n",
       "      <th>would</th>\n",
       "      <th>wrote</th>\n",
       "      <th>year</th>\n",
       "      <th>years</th>\n",
       "      <th>yet</th>\n",
       "      <th>you</th>\n",
       "      <th>youlearn</th>\n",
       "      <th>yuan</th>\n",
       "    </tr>\n",
       "  </thead>\n",
       "  <tbody>\n",
       "    <tr>\n",
       "      <th>chatgpt</th>\n",
       "      <td>2</td>\n",
       "      <td>2</td>\n",
       "      <td>2</td>\n",
       "      <td>3</td>\n",
       "      <td>7</td>\n",
       "      <td>1</td>\n",
       "      <td>0</td>\n",
       "      <td>0</td>\n",
       "      <td>1</td>\n",
       "      <td>3</td>\n",
       "      <td>...</td>\n",
       "      <td>2</td>\n",
       "      <td>0</td>\n",
       "      <td>1</td>\n",
       "      <td>2</td>\n",
       "      <td>1</td>\n",
       "      <td>4</td>\n",
       "      <td>1</td>\n",
       "      <td>3</td>\n",
       "      <td>1</td>\n",
       "      <td>0</td>\n",
       "    </tr>\n",
       "    <tr>\n",
       "      <th>ecnyplan</th>\n",
       "      <td>0</td>\n",
       "      <td>0</td>\n",
       "      <td>2</td>\n",
       "      <td>0</td>\n",
       "      <td>5</td>\n",
       "      <td>0</td>\n",
       "      <td>0</td>\n",
       "      <td>0</td>\n",
       "      <td>0</td>\n",
       "      <td>5</td>\n",
       "      <td>...</td>\n",
       "      <td>0</td>\n",
       "      <td>2</td>\n",
       "      <td>1</td>\n",
       "      <td>1</td>\n",
       "      <td>11</td>\n",
       "      <td>5</td>\n",
       "      <td>1</td>\n",
       "      <td>1</td>\n",
       "      <td>1</td>\n",
       "      <td>23</td>\n",
       "    </tr>\n",
       "    <tr>\n",
       "      <th>metaverse</th>\n",
       "      <td>1</td>\n",
       "      <td>0</td>\n",
       "      <td>5</td>\n",
       "      <td>2</td>\n",
       "      <td>6</td>\n",
       "      <td>1</td>\n",
       "      <td>1</td>\n",
       "      <td>0</td>\n",
       "      <td>1</td>\n",
       "      <td>1</td>\n",
       "      <td>...</td>\n",
       "      <td>5</td>\n",
       "      <td>0</td>\n",
       "      <td>1</td>\n",
       "      <td>0</td>\n",
       "      <td>6</td>\n",
       "      <td>5</td>\n",
       "      <td>0</td>\n",
       "      <td>1</td>\n",
       "      <td>1</td>\n",
       "      <td>0</td>\n",
       "    </tr>\n",
       "    <tr>\n",
       "      <th>nvidia</th>\n",
       "      <td>1</td>\n",
       "      <td>0</td>\n",
       "      <td>2</td>\n",
       "      <td>0</td>\n",
       "      <td>1</td>\n",
       "      <td>1</td>\n",
       "      <td>0</td>\n",
       "      <td>0</td>\n",
       "      <td>1</td>\n",
       "      <td>1</td>\n",
       "      <td>...</td>\n",
       "      <td>0</td>\n",
       "      <td>1</td>\n",
       "      <td>0</td>\n",
       "      <td>1</td>\n",
       "      <td>2</td>\n",
       "      <td>0</td>\n",
       "      <td>1</td>\n",
       "      <td>1</td>\n",
       "      <td>1</td>\n",
       "      <td>0</td>\n",
       "    </tr>\n",
       "    <tr>\n",
       "      <th>openai-sora</th>\n",
       "      <td>1</td>\n",
       "      <td>1</td>\n",
       "      <td>4</td>\n",
       "      <td>7</td>\n",
       "      <td>3</td>\n",
       "      <td>0</td>\n",
       "      <td>1</td>\n",
       "      <td>3</td>\n",
       "      <td>4</td>\n",
       "      <td>1</td>\n",
       "      <td>...</td>\n",
       "      <td>2</td>\n",
       "      <td>2</td>\n",
       "      <td>3</td>\n",
       "      <td>1</td>\n",
       "      <td>2</td>\n",
       "      <td>3</td>\n",
       "      <td>1</td>\n",
       "      <td>4</td>\n",
       "      <td>1</td>\n",
       "      <td>0</td>\n",
       "    </tr>\n",
       "    <tr>\n",
       "      <th>techwar</th>\n",
       "      <td>0</td>\n",
       "      <td>1</td>\n",
       "      <td>0</td>\n",
       "      <td>4</td>\n",
       "      <td>4</td>\n",
       "      <td>0</td>\n",
       "      <td>1</td>\n",
       "      <td>2</td>\n",
       "      <td>13</td>\n",
       "      <td>0</td>\n",
       "      <td>...</td>\n",
       "      <td>3</td>\n",
       "      <td>1</td>\n",
       "      <td>1</td>\n",
       "      <td>0</td>\n",
       "      <td>3</td>\n",
       "      <td>1</td>\n",
       "      <td>0</td>\n",
       "      <td>1</td>\n",
       "      <td>1</td>\n",
       "      <td>1</td>\n",
       "    </tr>\n",
       "    <tr>\n",
       "      <th>tencent</th>\n",
       "      <td>0</td>\n",
       "      <td>1</td>\n",
       "      <td>3</td>\n",
       "      <td>0</td>\n",
       "      <td>14</td>\n",
       "      <td>1</td>\n",
       "      <td>0</td>\n",
       "      <td>2</td>\n",
       "      <td>0</td>\n",
       "      <td>0</td>\n",
       "      <td>...</td>\n",
       "      <td>0</td>\n",
       "      <td>4</td>\n",
       "      <td>0</td>\n",
       "      <td>0</td>\n",
       "      <td>8</td>\n",
       "      <td>2</td>\n",
       "      <td>0</td>\n",
       "      <td>1</td>\n",
       "      <td>1</td>\n",
       "      <td>2</td>\n",
       "    </tr>\n",
       "  </tbody>\n",
       "</table>\n",
       "<p>7 rows × 428 columns</p>\n",
       "</div>"
      ],
      "text/plain": [
       "             ability  able  about  access  according  across  activity  \\\n",
       "chatgpt            2     2      2       3          7       1         0   \n",
       "ecnyplan           0     0      2       0          5       0         0   \n",
       "metaverse          1     0      5       2          6       1         1   \n",
       "nvidia             1     0      2       0          1       1         0   \n",
       "openai-sora        1     1      4       7          3       0         1   \n",
       "techwar            0     1      0       4          4       0         1   \n",
       "tencent            0     1      3       0         14       1         0   \n",
       "\n",
       "             administration  advanced  after  ...  world  worlds  would  \\\n",
       "chatgpt                   0         1      3  ...      2       0      1   \n",
       "ecnyplan                  0         0      5  ...      0       2      1   \n",
       "metaverse                 0         1      1  ...      5       0      1   \n",
       "nvidia                    0         1      1  ...      0       1      0   \n",
       "openai-sora               3         4      1  ...      2       2      3   \n",
       "techwar                   2        13      0  ...      3       1      1   \n",
       "tencent                   2         0      0  ...      0       4      0   \n",
       "\n",
       "             wrote  year  years  yet  you  youlearn  yuan  \n",
       "chatgpt          2     1      4    1    3         1     0  \n",
       "ecnyplan         1    11      5    1    1         1    23  \n",
       "metaverse        0     6      5    0    1         1     0  \n",
       "nvidia           1     2      0    1    1         1     0  \n",
       "openai-sora      1     2      3    1    4         1     0  \n",
       "techwar          0     3      1    0    1         1     1  \n",
       "tencent          0     8      2    0    1         1     2  \n",
       "\n",
       "[7 rows x 428 columns]"
      ]
     },
     "execution_count": 56,
     "metadata": {},
     "output_type": "execute_result"
    }
   ],
   "source": [
    "cv = CountVectorizer(min_df=3) # try max_df as well\n",
    "data_cv = cv.fit_transform(data_clean.transcript)\n",
    "data_dtm = pd.DataFrame(data_cv.toarray(), columns=cv.get_feature_names_out())\n",
    "\n",
    "data_dtm.index = data_clean.index\n",
    "data_dtm"
   ]
  },
  {
   "cell_type": "code",
   "execution_count": null,
   "metadata": {},
   "outputs": [],
   "source": []
  },
  {
   "cell_type": "code",
   "execution_count": null,
   "metadata": {},
   "outputs": [],
   "source": []
  }
 ],
 "metadata": {
  "kernelspec": {
   "display_name": "Python 3 (ipykernel)",
   "language": "python",
   "name": "python3"
  },
  "language_info": {
   "codemirror_mode": {
    "name": "ipython",
    "version": 3
   },
   "file_extension": ".py",
   "mimetype": "text/x-python",
   "name": "python",
   "nbconvert_exporter": "python",
   "pygments_lexer": "ipython3",
   "version": "3.11.4"
  },
  "toc": {
   "nav_menu": {},
   "number_sections": true,
   "sideBar": true,
   "skip_h1_title": false,
   "toc_cell": false,
   "toc_position": {},
   "toc_section_display": "block",
   "toc_window_display": false
  },
  "varInspector": {
   "cols": {
    "lenName": 16,
    "lenType": 16,
    "lenVar": 40
   },
   "kernels_config": {
    "python": {
     "delete_cmd_postfix": "",
     "delete_cmd_prefix": "del ",
     "library": "var_list.py",
     "varRefreshCmd": "print(var_dic_list())"
    },
    "r": {
     "delete_cmd_postfix": ") ",
     "delete_cmd_prefix": "rm(",
     "library": "var_list.r",
     "varRefreshCmd": "cat(var_dic_list()) "
    }
   },
   "types_to_exclude": [
    "module",
    "function",
    "builtin_function_or_method",
    "instance",
    "_Feature"
   ],
   "window_display": false
  }
 },
 "nbformat": 4,
 "nbformat_minor": 4
}
